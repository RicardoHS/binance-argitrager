{
 "cells": [
  {
   "cell_type": "code",
   "execution_count": 75,
   "metadata": {},
   "outputs": [],
   "source": [
    "import urllib\n",
    "import urllib.request\n",
    "import json\n",
    "\n",
    "import pandas as pd\n",
    "import numpy as np"
   ]
  },
  {
   "cell_type": "code",
   "execution_count": 23,
   "metadata": {},
   "outputs": [],
   "source": [
    "binance_base = \"https://<>.binance.com\"\n",
    "binance_subdomains = [\"api\", \"api1\", \"api2\", \"api3\"]\n",
    "\n",
    "binance_url = binance_base.replace('<>', binance_subdomains[0])\n",
    "\n",
    "binance_endpoints = {\n",
    "    'ping': ('GET', '/api/v3/ping'),\n",
    "    'server_time': ('GET', '/api/v3/time'),\n",
    "    'exchange_info': ('GET', '/api/v3/exchangeInfo'),\n",
    "    'order_book': ('GET', '/api/v3/depth', {'symbol': True, 'limit': False}),\n",
    "    'recent_trades': ('GET', '/api/v3/trades', {'symbol': True, 'limit': False}),\n",
    "    'average_price': ('GET', '/api/v3/avgPrice', {'symbol': True}),\n",
    "    'price': ('GET', '/api/v3/ticker/price', {'symbol': False}),\n",
    "    'best_book_price': ('GET', '/api/v3/ticker/bookTicker', {'symbol': False})\n",
    "}"
   ]
  },
  {
   "cell_type": "code",
   "execution_count": 35,
   "metadata": {},
   "outputs": [],
   "source": [
    "binance_uri = binance_url + binance_endpoints['exchange_info'][1]\n",
    "\n",
    "web_url = urllib.request.urlopen(binance_uri)\n",
    "data = web_url.read()\n",
    "encoding = web_url.info().get_content_charset('utf-8')\n",
    "JSON_object = json.loads(data.decode(encoding))\n",
    "\n",
    "df_symbols = pd.DataFrame(JSON_object['symbols'])\n",
    "df_symbols = df_symbols[df_symbols['status']=='TRADING']"
   ]
  },
  {
   "cell_type": "code",
   "execution_count": 2,
   "metadata": {},
   "outputs": [
    {
     "data": {
      "text/html": [
       "<div>\n",
       "<style scoped>\n",
       "    .dataframe tbody tr th:only-of-type {\n",
       "        vertical-align: middle;\n",
       "    }\n",
       "\n",
       "    .dataframe tbody tr th {\n",
       "        vertical-align: top;\n",
       "    }\n",
       "\n",
       "    .dataframe thead th {\n",
       "        text-align: right;\n",
       "    }\n",
       "</style>\n",
       "<table border=\"1\" class=\"dataframe\">\n",
       "  <thead>\n",
       "    <tr style=\"text-align: right;\">\n",
       "      <th></th>\n",
       "      <th>s</th>\n",
       "      <th>st</th>\n",
       "      <th>b</th>\n",
       "      <th>q</th>\n",
       "      <th>ba</th>\n",
       "      <th>qa</th>\n",
       "      <th>i</th>\n",
       "      <th>ts</th>\n",
       "      <th>an</th>\n",
       "      <th>qn</th>\n",
       "      <th>...</th>\n",
       "      <th>y</th>\n",
       "      <th>as</th>\n",
       "      <th>pm</th>\n",
       "      <th>pn</th>\n",
       "      <th>cs</th>\n",
       "      <th>tags</th>\n",
       "      <th>pom</th>\n",
       "      <th>pomt</th>\n",
       "      <th>etf</th>\n",
       "      <th>market_cap</th>\n",
       "    </tr>\n",
       "  </thead>\n",
       "  <tbody>\n",
       "    <tr>\n",
       "      <th>185</th>\n",
       "      <td>BTCBIDR</td>\n",
       "      <td>TRADING</td>\n",
       "      <td>BTC</td>\n",
       "      <td>BIDR</td>\n",
       "      <td>฿</td>\n",
       "      <td></td>\n",
       "      <td>0.00000100</td>\n",
       "      <td>1</td>\n",
       "      <td>Bitcoin</td>\n",
       "      <td>BIDR</td>\n",
       "      <td>...</td>\n",
       "      <td>0</td>\n",
       "      <td>86.177251</td>\n",
       "      <td>FIAT</td>\n",
       "      <td>FIAT</td>\n",
       "      <td>1.867246e+07</td>\n",
       "      <td>[pow, mining-zone]</td>\n",
       "      <td>False</td>\n",
       "      <td>None</td>\n",
       "      <td>False</td>\n",
       "      <td>1.581367e+16</td>\n",
       "    </tr>\n",
       "    <tr>\n",
       "      <th>191</th>\n",
       "      <td>BTCIDRT</td>\n",
       "      <td>TRADING</td>\n",
       "      <td>BTC</td>\n",
       "      <td>IDRT</td>\n",
       "      <td>฿</td>\n",
       "      <td></td>\n",
       "      <td>0.00000100</td>\n",
       "      <td>1</td>\n",
       "      <td>Bitcoin</td>\n",
       "      <td>Rupiah Token</td>\n",
       "      <td>...</td>\n",
       "      <td>0</td>\n",
       "      <td>4.603756</td>\n",
       "      <td>FIAT</td>\n",
       "      <td>FIAT</td>\n",
       "      <td>1.867246e+07</td>\n",
       "      <td>[pow, mining-zone]</td>\n",
       "      <td>False</td>\n",
       "      <td>None</td>\n",
       "      <td>False</td>\n",
       "      <td>1.562939e+16</td>\n",
       "    </tr>\n",
       "    <tr>\n",
       "      <th>377</th>\n",
       "      <td>ETHBIDR</td>\n",
       "      <td>TRADING</td>\n",
       "      <td>ETH</td>\n",
       "      <td>BIDR</td>\n",
       "      <td>Ξ</td>\n",
       "      <td></td>\n",
       "      <td>0.00001000</td>\n",
       "      <td>1</td>\n",
       "      <td>Ethereum</td>\n",
       "      <td>BIDR</td>\n",
       "      <td>...</td>\n",
       "      <td>0</td>\n",
       "      <td>1168.975230</td>\n",
       "      <td>FIAT</td>\n",
       "      <td>FIAT</td>\n",
       "      <td>1.153187e+08</td>\n",
       "      <td>[pow, mining-zone]</td>\n",
       "      <td>False</td>\n",
       "      <td>None</td>\n",
       "      <td>False</td>\n",
       "      <td>3.438402e+15</td>\n",
       "    </tr>\n",
       "    <tr>\n",
       "      <th>849</th>\n",
       "      <td>USDTBVND</td>\n",
       "      <td>TRADING</td>\n",
       "      <td>USDT</td>\n",
       "      <td>BVND</td>\n",
       "      <td></td>\n",
       "      <td></td>\n",
       "      <td>0.01000000</td>\n",
       "      <td>1</td>\n",
       "      <td>TetherUS</td>\n",
       "      <td>BVND</td>\n",
       "      <td>...</td>\n",
       "      <td>0</td>\n",
       "      <td>783655.590000</td>\n",
       "      <td>FIAT</td>\n",
       "      <td>FIAT</td>\n",
       "      <td>4.230975e+10</td>\n",
       "      <td>[]</td>\n",
       "      <td>False</td>\n",
       "      <td>None</td>\n",
       "      <td>False</td>\n",
       "      <td>1.037985e+15</td>\n",
       "    </tr>\n",
       "    <tr>\n",
       "      <th>166</th>\n",
       "      <td>BNBBIDR</td>\n",
       "      <td>TRADING</td>\n",
       "      <td>BNB</td>\n",
       "      <td>BIDR</td>\n",
       "      <td></td>\n",
       "      <td></td>\n",
       "      <td>0.00100000</td>\n",
       "      <td>1</td>\n",
       "      <td>BNB</td>\n",
       "      <td>BIDR</td>\n",
       "      <td>...</td>\n",
       "      <td>0</td>\n",
       "      <td>24521.364000</td>\n",
       "      <td>FIAT</td>\n",
       "      <td>FIAT</td>\n",
       "      <td>1.526659e+08</td>\n",
       "      <td>[pos, mining-zone, BSC]</td>\n",
       "      <td>False</td>\n",
       "      <td>None</td>\n",
       "      <td>False</td>\n",
       "      <td>8.802480e+14</td>\n",
       "    </tr>\n",
       "  </tbody>\n",
       "</table>\n",
       "<p>5 rows × 26 columns</p>\n",
       "</div>"
      ],
      "text/plain": [
       "            s       st     b     q ba qa           i ts        an  \\\n",
       "185   BTCBIDR  TRADING   BTC  BIDR  ฿     0.00000100  1   Bitcoin   \n",
       "191   BTCIDRT  TRADING   BTC  IDRT  ฿     0.00000100  1   Bitcoin   \n",
       "377   ETHBIDR  TRADING   ETH  BIDR  Ξ     0.00001000  1  Ethereum   \n",
       "849  USDTBVND  TRADING  USDT  BVND        0.01000000  1  TetherUS   \n",
       "166   BNBBIDR  TRADING   BNB  BIDR        0.00100000  1       BNB   \n",
       "\n",
       "               qn  ...  y             as    pm    pn            cs  \\\n",
       "185          BIDR  ...  0      86.177251  FIAT  FIAT  1.867246e+07   \n",
       "191  Rupiah Token  ...  0       4.603756  FIAT  FIAT  1.867246e+07   \n",
       "377          BIDR  ...  0    1168.975230  FIAT  FIAT  1.153187e+08   \n",
       "849          BVND  ...  0  783655.590000  FIAT  FIAT  4.230975e+10   \n",
       "166          BIDR  ...  0   24521.364000  FIAT  FIAT  1.526659e+08   \n",
       "\n",
       "                        tags    pom  pomt    etf    market_cap  \n",
       "185       [pow, mining-zone]  False  None  False  1.581367e+16  \n",
       "191       [pow, mining-zone]  False  None  False  1.562939e+16  \n",
       "377       [pow, mining-zone]  False  None  False  3.438402e+15  \n",
       "849                       []  False  None  False  1.037985e+15  \n",
       "166  [pos, mining-zone, BSC]  False  None  False  8.802480e+14  \n",
       "\n",
       "[5 rows x 26 columns]"
      ]
     },
     "execution_count": 2,
     "metadata": {},
     "output_type": "execute_result"
    }
   ],
   "source": [
    "# market cap\n",
    "binance_uri = \"https://www.binance.com/exchange-api/v2/public/asset-service/product/get-products\"\n",
    "web_url = urllib.request.urlopen(binance_uri)\n",
    "data = web_url.read()\n",
    "encoding = web_url.info().get_content_charset('utf-8')\n",
    "JSON_object = json.loads(data.decode(encoding))\n",
    "df_market = pd.DataFrame(JSON_object['data'])\n",
    "df_market['c'] = df_market['c'].astype(float)\n",
    "df_market['market_cap'] = df_market['cs'].fillna(0).astype(float)*df_market['c'].fillna(0)\n",
    "df_market = df_market[df_market['market_cap']>0]\n",
    "df_market.sort_values(by='market_cap', ascending=False)"
   ]
  },
  {
   "cell_type": "code",
   "execution_count": 21,
   "metadata": {},
   "outputs": [
    {
     "data": {
      "text/plain": [
       "<AxesSubplot:>"
      ]
     },
     "execution_count": 21,
     "metadata": {},
     "output_type": "execute_result"
    },
    {
     "data": {
      "image/png": "[encoded data removed]",
      "text/plain": [
       "<Figure size 432x288 with 1 Axes>"
      ]
     },
     "metadata": {
      "needs_background": "light"
     },
     "output_type": "display_data"
    }
   ],
   "source": [
    "df_market['market_cap'].sort_values(ascending=False).reset_index(drop=True)[:30].plot()"
   ]
  },
  {
   "cell_type": "code",
   "execution_count": 53,
   "metadata": {},
   "outputs": [],
   "source": [
    "import asyncio\n",
    "import aiohttp\n",
    "from aiohttp import ClientSession\n",
    "\n",
    "async def get_symbol_trades_stats(symbol):\n",
    "    binance_uri = binance_url + binance_endpoints['recent_trades'][1] + f'?symbol={symbol}'\n",
    "    async with ClientSession() as session:\n",
    "        res = await session.request(method=\"GET\", url=binance_uri)\n",
    "        res_json = await res.text()\n",
    "        JSON_object = json.loads(res_json)\n",
    "    df_recent_trades = pd.DataFrame(JSON_object)\n",
    "    mean_time = df_recent_trades['time'].diff().mean()\n",
    "    return mean_time"
   ]
  },
  {
   "cell_type": "code",
   "execution_count": 54,
   "metadata": {},
   "outputs": [],
   "source": [
    "result = []\n",
    "\n",
    "for sym in df_symbols['symbol'].to_list():\n",
    "    res = await get_symbol_trades_stats(sym)\n",
    "    result.append({'symbol': sym, 'average_trade_time': res})\n",
    "    \n",
    "df_trade_times = pd.DataFrame(result)\n",
    "\n",
    "df_trade_times['market_cap'] = np.NaN\n",
    "df_market_caps = df_market.set_index('s').loc[df_trade_times[df_trade_times['symbol'].isin(df_market['s'])]['symbol'], 'market_cap']\n",
    "market_caps = df_market_caps.values\n",
    "idx = df_market_caps.index\n",
    "\n",
    "df_trade_times = df_trade_times.set_index('symbol')\n",
    "df_trade_times.loc[idx, 'market_cap'] = market_caps"
   ]
  },
  {
   "cell_type": "code",
   "execution_count": 117,
   "metadata": {},
   "outputs": [
    {
     "data": {
      "text/plain": [
       "<AxesSubplot:xlabel='symbol'>"
      ]
     },
     "execution_count": 117,
     "metadata": {},
     "output_type": "execute_result"
    },
    {
     "data": {
      "image/png": "[encoded data removed]",
      "text/plain": [
       "<Figure size 432x288 with 1 Axes>"
      ]
     },
     "metadata": {
      "needs_background": "light"
     },
     "output_type": "display_data"
    }
   ],
   "source": [
    "df_trade_times.sort_values('average_trade_time').apply(lambda x: x/x.max(), axis=0).plot()"
   ]
  },
  {
   "cell_type": "code",
   "execution_count": 131,
   "metadata": {},
   "outputs": [
    {
     "data": {
      "text/plain": [
       "<AxesSubplot:xlabel='symbol'>"
      ]
     },
     "execution_count": 131,
     "metadata": {},
     "output_type": "execute_result"
    },
    {
     "data": {
      "image/png": "[encoded data removed]",
      "text/plain": [
       "<Figure size 432x288 with 1 Axes>"
      ]
     },
     "metadata": {
      "needs_background": "light"
     },
     "output_type": "display_data"
    }
   ],
   "source": [
    "df_trade_times[df_trade_times['average_trade_time']<1000].sort_values('average_trade_time').plot()"
   ]
  },
  {
   "cell_type": "code",
   "execution_count": null,
   "metadata": {},
   "outputs": [],
   "source": []
  }
 ],
 "metadata": {
  "kernelspec": {
   "display_name": "Python 3",
   "language": "python",
   "name": "python3"
  },
  "language_info": {
   "codemirror_mode": {
    "name": "ipython",
    "version": 3
   },
   "file_extension": ".py",
   "mimetype": "text/x-python",
   "name": "python",
   "nbconvert_exporter": "python",
   "pygments_lexer": "ipython3",
   "version": "3.7.5"
  }
 },
 "nbformat": 4,
 "nbformat_minor": 4
}
