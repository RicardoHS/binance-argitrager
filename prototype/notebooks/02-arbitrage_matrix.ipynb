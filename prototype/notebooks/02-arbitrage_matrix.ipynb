{
 "cells": [
  {
   "cell_type": "markdown",
   "metadata": {},
   "source": [
    "# Arbitrage auto detection using matrices\n",
    " \n",
    " https://papers.ssrn.com/sol3/papers.cfm?abstract_id=1096549"
   ]
  },
  {
   "cell_type": "code",
   "execution_count": 1,
   "metadata": {},
   "outputs": [],
   "source": [
    "import urllib\n",
    "import urllib.request\n",
    "import json\n",
    "\n",
    "import pandas as pd\n",
    "import numpy as np"
   ]
  },
  {
   "cell_type": "code",
   "execution_count": 2,
   "metadata": {},
   "outputs": [],
   "source": [
    "pd.set_option('display.float_format', lambda x: '%.3f' % x)"
   ]
  },
  {
   "cell_type": "code",
   "execution_count": 3,
   "metadata": {},
   "outputs": [],
   "source": [
    "binance_base = \"https://<>.binance.com\"\n",
    "binance_subdomains = [\"api\", \"api1\", \"api2\", \"api3\"]\n",
    "\n",
    "binance_url = binance_base.replace('<>', binance_subdomains[0])\n",
    "\n",
    "binance_endpoints = {\n",
    "    'ping': ('GET', '/api/v3/ping'),\n",
    "    'server_time': ('GET', '/api/v3/time'),\n",
    "    'exchange_info': ('GET', '/api/v3/exchangeInfo'),\n",
    "    'order_book': ('GET', '/api/v3/depth', {'symbol': True, 'limit': False}),\n",
    "    'recent_trades': ('GET', '/api/v3/trades', {'symbol': True, 'limit': False}),\n",
    "    'average_price': ('GET', '/api/v3/avgPrice', {'symbol': True}),\n",
    "    'price': ('GET', '/api/v3/ticker/price', {'symbol': False}),\n",
    "    'best_book_price': ('GET', '/api/v3/ticker/bookTicker', {'symbol': False})\n",
    "}"
   ]
  },
  {
   "cell_type": "code",
   "execution_count": 4,
   "metadata": {},
   "outputs": [],
   "source": [
    "binance_uri = binance_url + binance_endpoints['exchange_info'][1]\n",
    "\n",
    "web_url = urllib.request.urlopen(binance_uri)\n",
    "data = web_url.read()\n",
    "encoding = web_url.info().get_content_charset('utf-8')\n",
    "JSON_object = json.loads(data.decode(encoding))\n",
    "\n",
    "df_symbols = pd.DataFrame(JSON_object['symbols'])\n",
    "df_symbols = df_symbols[df_symbols['status']=='TRADING']"
   ]
  },
  {
   "cell_type": "code",
   "execution_count": 5,
   "metadata": {},
   "outputs": [],
   "source": [
    "binance_uri = binance_url + binance_endpoints['price'][1] #+ '?symbol=BTCEUR'\n",
    "\n",
    "web_url = urllib.request.urlopen(binance_uri)\n",
    "data = web_url.read()\n",
    "encoding = web_url.info().get_content_charset('utf-8')\n",
    "JSON_object = json.loads(data.decode(encoding))\n",
    "df_prices = pd.DataFrame(JSON_object)"
   ]
  },
  {
   "cell_type": "code",
   "execution_count": 6,
   "metadata": {},
   "outputs": [],
   "source": [
    "symbols = df_symbols['baseAsset'].unique()"
   ]
  },
  {
   "cell_type": "code",
   "execution_count": 7,
   "metadata": {},
   "outputs": [],
   "source": [
    "df_prices['first_symbol'] = np.NaN\n",
    "for i in range(df_prices['symbol'].apply(len).max()):\n",
    "    mask = df_prices['symbol'].str[0:i].isin(symbols)\n",
    "    df_prices.loc[mask, 'first_symbol'] = df_prices[mask]['symbol'].str[0:i]\n",
    "    \n",
    "df_prices['second_symbol'] = np.NaN\n",
    "for i in range(df_prices['symbol'].apply(len).max()):\n",
    "    mask = df_prices['symbol'].str[-(i+1):].isin(symbols)\n",
    "    df_prices.loc[mask, 'second_symbol'] = df_prices[mask]['symbol'].str[-(i+1):]\n",
    "    \n",
    "df_prices = df_prices.drop(index=df_prices[df_prices['first_symbol'].isna()].index)\n",
    "df_prices = df_prices.drop(index=df_prices[df_prices['second_symbol'].isna()].index)"
   ]
  },
  {
   "cell_type": "code",
   "execution_count": 31,
   "metadata": {},
   "outputs": [],
   "source": [
    "change_matrix = pd.DataFrame(np.identity(len(symbols)), index=symbols, columns=symbols)\n",
    "\n",
    "for index, row in df_prices.iterrows():\n",
    "    change_matrix.loc[row['first_symbol'], row['second_symbol']] = row['price']\n",
    "    \n",
    "change_matrix = change_matrix.astype('float')"
   ]
  },
  {
   "cell_type": "code",
   "execution_count": 9,
   "metadata": {},
   "outputs": [],
   "source": [
    "# Complete the matrix with the reciprocal\n",
    "matrix = np.tril(change_matrix.to_numpy())\n",
    "matrix_mask = matrix!=0\n",
    "upper_matrix = np.reciprocal(matrix, where=matrix_mask).T\n",
    "\n",
    "matrix = np.triu(change_matrix.to_numpy())\n",
    "matrix_mask = matrix!=0\n",
    "lower_matrix = np.reciprocal(matrix, where=matrix_mask).T\n",
    "\n",
    "change_matrix = change_matrix + upper_matrix + lower_matrix - np.identity(len(change_matrix))*2"
   ]
  },
  {
   "cell_type": "code",
   "execution_count": 10,
   "metadata": {},
   "outputs": [
    {
     "data": {
      "text/html": [
       "<div>\n",
       "<style scoped>\n",
       "    .dataframe tbody tr th:only-of-type {\n",
       "        vertical-align: middle;\n",
       "    }\n",
       "\n",
       "    .dataframe tbody tr th {\n",
       "        vertical-align: top;\n",
       "    }\n",
       "\n",
       "    .dataframe thead th {\n",
       "        text-align: right;\n",
       "    }\n",
       "</style>\n",
       "<table border=\"1\" class=\"dataframe\">\n",
       "  <thead>\n",
       "    <tr style=\"text-align: right;\">\n",
       "      <th></th>\n",
       "      <th>ETH</th>\n",
       "      <th>LTC</th>\n",
       "      <th>BNB</th>\n",
       "      <th>NEO</th>\n",
       "      <th>QTUM</th>\n",
       "      <th>EOS</th>\n",
       "      <th>SNT</th>\n",
       "      <th>BNT</th>\n",
       "      <th>GAS</th>\n",
       "      <th>BTC</th>\n",
       "      <th>...</th>\n",
       "      <th>BADGER</th>\n",
       "      <th>FIS</th>\n",
       "      <th>OM</th>\n",
       "      <th>POND</th>\n",
       "      <th>DEGO</th>\n",
       "      <th>ALICE</th>\n",
       "      <th>BIFI</th>\n",
       "      <th>LINA</th>\n",
       "      <th>PERP</th>\n",
       "      <th>RAMP</th>\n",
       "    </tr>\n",
       "  </thead>\n",
       "  <tbody>\n",
       "    <tr>\n",
       "      <th>ETH</th>\n",
       "      <td>1.000</td>\n",
       "      <td>8.892</td>\n",
       "      <td>0.000</td>\n",
       "      <td>37.877</td>\n",
       "      <td>206.148</td>\n",
       "      <td>396.356</td>\n",
       "      <td>13758.943</td>\n",
       "      <td>227.380</td>\n",
       "      <td>0.000</td>\n",
       "      <td>0.030</td>\n",
       "      <td>...</td>\n",
       "      <td>0.000</td>\n",
       "      <td>0.000</td>\n",
       "      <td>0.000</td>\n",
       "      <td>0.000</td>\n",
       "      <td>0.000</td>\n",
       "      <td>0.000</td>\n",
       "      <td>0.000</td>\n",
       "      <td>0.000</td>\n",
       "      <td>0.000</td>\n",
       "      <td>0.000</td>\n",
       "    </tr>\n",
       "    <tr>\n",
       "      <th>LTC</th>\n",
       "      <td>0.114</td>\n",
       "      <td>1.000</td>\n",
       "      <td>0.734</td>\n",
       "      <td>0.000</td>\n",
       "      <td>0.000</td>\n",
       "      <td>0.000</td>\n",
       "      <td>0.000</td>\n",
       "      <td>0.000</td>\n",
       "      <td>0.000</td>\n",
       "      <td>0.003</td>\n",
       "      <td>...</td>\n",
       "      <td>0.000</td>\n",
       "      <td>0.000</td>\n",
       "      <td>0.000</td>\n",
       "      <td>0.000</td>\n",
       "      <td>0.000</td>\n",
       "      <td>0.000</td>\n",
       "      <td>0.000</td>\n",
       "      <td>0.000</td>\n",
       "      <td>0.000</td>\n",
       "      <td>0.000</td>\n",
       "    </tr>\n",
       "    <tr>\n",
       "      <th>BNB</th>\n",
       "      <td>0.000</td>\n",
       "      <td>1.362</td>\n",
       "      <td>1.000</td>\n",
       "      <td>6.049</td>\n",
       "      <td>10.516</td>\n",
       "      <td>61.366</td>\n",
       "      <td>0.000</td>\n",
       "      <td>0.000</td>\n",
       "      <td>0.000</td>\n",
       "      <td>0.005</td>\n",
       "      <td>...</td>\n",
       "      <td>0.000</td>\n",
       "      <td>0.000</td>\n",
       "      <td>0.000</td>\n",
       "      <td>0.000</td>\n",
       "      <td>0.000</td>\n",
       "      <td>0.000</td>\n",
       "      <td>6.917</td>\n",
       "      <td>0.000</td>\n",
       "      <td>0.000</td>\n",
       "      <td>0.000</td>\n",
       "    </tr>\n",
       "    <tr>\n",
       "      <th>NEO</th>\n",
       "      <td>0.026</td>\n",
       "      <td>0.000</td>\n",
       "      <td>0.170</td>\n",
       "      <td>1.000</td>\n",
       "      <td>0.000</td>\n",
       "      <td>0.000</td>\n",
       "      <td>0.000</td>\n",
       "      <td>0.000</td>\n",
       "      <td>0.000</td>\n",
       "      <td>0.001</td>\n",
       "      <td>...</td>\n",
       "      <td>0.000</td>\n",
       "      <td>0.000</td>\n",
       "      <td>0.000</td>\n",
       "      <td>0.000</td>\n",
       "      <td>0.000</td>\n",
       "      <td>0.000</td>\n",
       "      <td>0.000</td>\n",
       "      <td>0.000</td>\n",
       "      <td>0.000</td>\n",
       "      <td>0.000</td>\n",
       "    </tr>\n",
       "    <tr>\n",
       "      <th>QTUM</th>\n",
       "      <td>0.005</td>\n",
       "      <td>0.000</td>\n",
       "      <td>0.096</td>\n",
       "      <td>0.000</td>\n",
       "      <td>1.000</td>\n",
       "      <td>0.000</td>\n",
       "      <td>0.000</td>\n",
       "      <td>0.000</td>\n",
       "      <td>0.000</td>\n",
       "      <td>0.000</td>\n",
       "      <td>...</td>\n",
       "      <td>0.000</td>\n",
       "      <td>0.000</td>\n",
       "      <td>0.000</td>\n",
       "      <td>0.000</td>\n",
       "      <td>0.000</td>\n",
       "      <td>0.000</td>\n",
       "      <td>0.000</td>\n",
       "      <td>0.000</td>\n",
       "      <td>0.000</td>\n",
       "      <td>0.000</td>\n",
       "    </tr>\n",
       "    <tr>\n",
       "      <th>...</th>\n",
       "      <td>...</td>\n",
       "      <td>...</td>\n",
       "      <td>...</td>\n",
       "      <td>...</td>\n",
       "      <td>...</td>\n",
       "      <td>...</td>\n",
       "      <td>...</td>\n",
       "      <td>...</td>\n",
       "      <td>...</td>\n",
       "      <td>...</td>\n",
       "      <td>...</td>\n",
       "      <td>...</td>\n",
       "      <td>...</td>\n",
       "      <td>...</td>\n",
       "      <td>...</td>\n",
       "      <td>...</td>\n",
       "      <td>...</td>\n",
       "      <td>...</td>\n",
       "      <td>...</td>\n",
       "      <td>...</td>\n",
       "      <td>...</td>\n",
       "    </tr>\n",
       "    <tr>\n",
       "      <th>ALICE</th>\n",
       "      <td>0.000</td>\n",
       "      <td>0.000</td>\n",
       "      <td>0.000</td>\n",
       "      <td>0.000</td>\n",
       "      <td>0.000</td>\n",
       "      <td>0.000</td>\n",
       "      <td>0.000</td>\n",
       "      <td>0.000</td>\n",
       "      <td>0.000</td>\n",
       "      <td>0.000</td>\n",
       "      <td>...</td>\n",
       "      <td>0.000</td>\n",
       "      <td>0.000</td>\n",
       "      <td>0.000</td>\n",
       "      <td>0.000</td>\n",
       "      <td>0.000</td>\n",
       "      <td>1.000</td>\n",
       "      <td>0.000</td>\n",
       "      <td>0.000</td>\n",
       "      <td>0.000</td>\n",
       "      <td>0.000</td>\n",
       "    </tr>\n",
       "    <tr>\n",
       "      <th>BIFI</th>\n",
       "      <td>0.000</td>\n",
       "      <td>0.000</td>\n",
       "      <td>6.769</td>\n",
       "      <td>0.000</td>\n",
       "      <td>0.000</td>\n",
       "      <td>0.000</td>\n",
       "      <td>0.000</td>\n",
       "      <td>0.000</td>\n",
       "      <td>0.000</td>\n",
       "      <td>0.000</td>\n",
       "      <td>...</td>\n",
       "      <td>0.000</td>\n",
       "      <td>0.000</td>\n",
       "      <td>0.000</td>\n",
       "      <td>0.000</td>\n",
       "      <td>0.000</td>\n",
       "      <td>0.000</td>\n",
       "      <td>1.000</td>\n",
       "      <td>0.000</td>\n",
       "      <td>0.000</td>\n",
       "      <td>0.000</td>\n",
       "    </tr>\n",
       "    <tr>\n",
       "      <th>LINA</th>\n",
       "      <td>0.000</td>\n",
       "      <td>0.000</td>\n",
       "      <td>0.000</td>\n",
       "      <td>0.000</td>\n",
       "      <td>0.000</td>\n",
       "      <td>0.000</td>\n",
       "      <td>0.000</td>\n",
       "      <td>0.000</td>\n",
       "      <td>0.000</td>\n",
       "      <td>0.000</td>\n",
       "      <td>...</td>\n",
       "      <td>0.000</td>\n",
       "      <td>0.000</td>\n",
       "      <td>0.000</td>\n",
       "      <td>0.000</td>\n",
       "      <td>0.000</td>\n",
       "      <td>0.000</td>\n",
       "      <td>0.000</td>\n",
       "      <td>1.000</td>\n",
       "      <td>0.000</td>\n",
       "      <td>0.000</td>\n",
       "    </tr>\n",
       "    <tr>\n",
       "      <th>PERP</th>\n",
       "      <td>0.000</td>\n",
       "      <td>0.000</td>\n",
       "      <td>0.000</td>\n",
       "      <td>0.000</td>\n",
       "      <td>0.000</td>\n",
       "      <td>0.000</td>\n",
       "      <td>0.000</td>\n",
       "      <td>0.000</td>\n",
       "      <td>0.000</td>\n",
       "      <td>0.000</td>\n",
       "      <td>...</td>\n",
       "      <td>0.000</td>\n",
       "      <td>0.000</td>\n",
       "      <td>0.000</td>\n",
       "      <td>0.000</td>\n",
       "      <td>0.000</td>\n",
       "      <td>0.000</td>\n",
       "      <td>0.000</td>\n",
       "      <td>0.000</td>\n",
       "      <td>1.000</td>\n",
       "      <td>0.000</td>\n",
       "    </tr>\n",
       "    <tr>\n",
       "      <th>RAMP</th>\n",
       "      <td>0.000</td>\n",
       "      <td>0.000</td>\n",
       "      <td>0.000</td>\n",
       "      <td>0.000</td>\n",
       "      <td>0.000</td>\n",
       "      <td>0.000</td>\n",
       "      <td>0.000</td>\n",
       "      <td>0.000</td>\n",
       "      <td>0.000</td>\n",
       "      <td>0.000</td>\n",
       "      <td>...</td>\n",
       "      <td>0.000</td>\n",
       "      <td>0.000</td>\n",
       "      <td>0.000</td>\n",
       "      <td>0.000</td>\n",
       "      <td>0.000</td>\n",
       "      <td>0.000</td>\n",
       "      <td>0.000</td>\n",
       "      <td>0.000</td>\n",
       "      <td>0.000</td>\n",
       "      <td>1.000</td>\n",
       "    </tr>\n",
       "  </tbody>\n",
       "</table>\n",
       "<p>332 rows × 332 columns</p>\n",
       "</div>"
      ],
      "text/plain": [
       "        ETH   LTC   BNB    NEO    QTUM     EOS       SNT     BNT   GAS   BTC  \\\n",
       "ETH   1.000 8.892 0.000 37.877 206.148 396.356 13758.943 227.380 0.000 0.030   \n",
       "LTC   0.114 1.000 0.734  0.000   0.000   0.000     0.000   0.000 0.000 0.003   \n",
       "BNB   0.000 1.362 1.000  6.049  10.516  61.366     0.000   0.000 0.000 0.005   \n",
       "NEO   0.026 0.000 0.170  1.000   0.000   0.000     0.000   0.000 0.000 0.001   \n",
       "QTUM  0.005 0.000 0.096  0.000   1.000   0.000     0.000   0.000 0.000 0.000   \n",
       "...     ...   ...   ...    ...     ...     ...       ...     ...   ...   ...   \n",
       "ALICE 0.000 0.000 0.000  0.000   0.000   0.000     0.000   0.000 0.000 0.000   \n",
       "BIFI  0.000 0.000 6.769  0.000   0.000   0.000     0.000   0.000 0.000 0.000   \n",
       "LINA  0.000 0.000 0.000  0.000   0.000   0.000     0.000   0.000 0.000 0.000   \n",
       "PERP  0.000 0.000 0.000  0.000   0.000   0.000     0.000   0.000 0.000 0.000   \n",
       "RAMP  0.000 0.000 0.000  0.000   0.000   0.000     0.000   0.000 0.000 0.000   \n",
       "\n",
       "       ...  BADGER   FIS    OM  POND  DEGO  ALICE  BIFI  LINA  PERP  RAMP  \n",
       "ETH    ...   0.000 0.000 0.000 0.000 0.000  0.000 0.000 0.000 0.000 0.000  \n",
       "LTC    ...   0.000 0.000 0.000 0.000 0.000  0.000 0.000 0.000 0.000 0.000  \n",
       "BNB    ...   0.000 0.000 0.000 0.000 0.000  0.000 6.917 0.000 0.000 0.000  \n",
       "NEO    ...   0.000 0.000 0.000 0.000 0.000  0.000 0.000 0.000 0.000 0.000  \n",
       "QTUM   ...   0.000 0.000 0.000 0.000 0.000  0.000 0.000 0.000 0.000 0.000  \n",
       "...    ...     ...   ...   ...   ...   ...    ...   ...   ...   ...   ...  \n",
       "ALICE  ...   0.000 0.000 0.000 0.000 0.000  1.000 0.000 0.000 0.000 0.000  \n",
       "BIFI   ...   0.000 0.000 0.000 0.000 0.000  0.000 1.000 0.000 0.000 0.000  \n",
       "LINA   ...   0.000 0.000 0.000 0.000 0.000  0.000 0.000 1.000 0.000 0.000  \n",
       "PERP   ...   0.000 0.000 0.000 0.000 0.000  0.000 0.000 0.000 1.000 0.000  \n",
       "RAMP   ...   0.000 0.000 0.000 0.000 0.000  0.000 0.000 0.000 0.000 1.000  \n",
       "\n",
       "[332 rows x 332 columns]"
      ]
     },
     "execution_count": 10,
     "metadata": {},
     "output_type": "execute_result"
    }
   ],
   "source": [
    "change_matrix"
   ]
  },
  {
   "cell_type": "code",
   "execution_count": 11,
   "metadata": {},
   "outputs": [
    {
     "data": {
      "text/plain": [
       "26473.4551113711"
      ]
     },
     "execution_count": 11,
     "metadata": {},
     "output_type": "execute_result"
    }
   ],
   "source": [
    "change_matrix.loc['BTC', 'EUR'] / change_matrix.loc['EUR', 'LTC'] * change_matrix.loc['LTC', 'BTC']"
   ]
  },
  {
   "cell_type": "code",
   "execution_count": 12,
   "metadata": {},
   "outputs": [
    {
     "data": {
      "text/plain": [
       "47489.29"
      ]
     },
     "execution_count": 12,
     "metadata": {},
     "output_type": "execute_result"
    }
   ],
   "source": [
    "change_matrix.loc['BTC', 'EUR']"
   ]
  },
  {
   "cell_type": "code",
   "execution_count": 13,
   "metadata": {},
   "outputs": [
    {
     "data": {
      "text/plain": [
       "0.006145714900285776"
      ]
     },
     "execution_count": 13,
     "metadata": {},
     "output_type": "execute_result"
    }
   ],
   "source": [
    "change_matrix.loc['EUR', 'LTC']"
   ]
  },
  {
   "cell_type": "code",
   "execution_count": 62,
   "metadata": {},
   "outputs": [
    {
     "data": {
      "text/plain": [
       "0.003426"
      ]
     },
     "execution_count": 62,
     "metadata": {},
     "output_type": "execute_result"
    }
   ],
   "source": [
    "change_matrix.loc['LTC', 'BTC']"
   ]
  },
  {
   "cell_type": "code",
   "execution_count": 15,
   "metadata": {},
   "outputs": [
    {
     "data": {
      "text/plain": [
       "290.54410997524843"
      ]
     },
     "execution_count": 15,
     "metadata": {},
     "output_type": "execute_result"
    }
   ],
   "source": [
    "47370.06 / 163.03913372752754"
   ]
  },
  {
   "cell_type": "code",
   "execution_count": 16,
   "metadata": {},
   "outputs": [
    {
     "data": {
      "text/html": [
       "<div>\n",
       "<style scoped>\n",
       "    .dataframe tbody tr th:only-of-type {\n",
       "        vertical-align: middle;\n",
       "    }\n",
       "\n",
       "    .dataframe tbody tr th {\n",
       "        vertical-align: top;\n",
       "    }\n",
       "\n",
       "    .dataframe thead th {\n",
       "        text-align: right;\n",
       "    }\n",
       "</style>\n",
       "<table border=\"1\" class=\"dataframe\">\n",
       "  <thead>\n",
       "    <tr style=\"text-align: right;\">\n",
       "      <th></th>\n",
       "      <th>symbol</th>\n",
       "      <th>price</th>\n",
       "      <th>first_symbol</th>\n",
       "      <th>second_symbol</th>\n",
       "    </tr>\n",
       "  </thead>\n",
       "  <tbody>\n",
       "    <tr>\n",
       "      <th>1</th>\n",
       "      <td>LTCBTC</td>\n",
       "      <td>0.00342600</td>\n",
       "      <td>LTC</td>\n",
       "      <td>BTC</td>\n",
       "    </tr>\n",
       "    <tr>\n",
       "      <th>189</th>\n",
       "      <td>LTCETH</td>\n",
       "      <td>0.11392000</td>\n",
       "      <td>LTC</td>\n",
       "      <td>ETH</td>\n",
       "    </tr>\n",
       "    <tr>\n",
       "      <th>190</th>\n",
       "      <td>LTCUSDT</td>\n",
       "      <td>192.15000000</td>\n",
       "      <td>LTC</td>\n",
       "      <td>USDT</td>\n",
       "    </tr>\n",
       "    <tr>\n",
       "      <th>191</th>\n",
       "      <td>LTCBNB</td>\n",
       "      <td>0.73400000</td>\n",
       "      <td>LTC</td>\n",
       "      <td>BNB</td>\n",
       "    </tr>\n",
       "    <tr>\n",
       "      <th>450</th>\n",
       "      <td>LTCTUSD</td>\n",
       "      <td>192.36000000</td>\n",
       "      <td>LTC</td>\n",
       "      <td>TUSD</td>\n",
       "    </tr>\n",
       "    <tr>\n",
       "      <th>451</th>\n",
       "      <td>LTCPAX</td>\n",
       "      <td>191.74000000</td>\n",
       "      <td>LTC</td>\n",
       "      <td>PAX</td>\n",
       "    </tr>\n",
       "    <tr>\n",
       "      <th>452</th>\n",
       "      <td>LTCUSDC</td>\n",
       "      <td>191.92000000</td>\n",
       "      <td>LTC</td>\n",
       "      <td>USDC</td>\n",
       "    </tr>\n",
       "    <tr>\n",
       "      <th>640</th>\n",
       "      <td>LTCBUSD</td>\n",
       "      <td>192.00000000</td>\n",
       "      <td>LTC</td>\n",
       "      <td>BUSD</td>\n",
       "    </tr>\n",
       "    <tr>\n",
       "      <th>1154</th>\n",
       "      <td>LTCEUR</td>\n",
       "      <td>162.71500000</td>\n",
       "      <td>LTC</td>\n",
       "      <td>EUR</td>\n",
       "    </tr>\n",
       "  </tbody>\n",
       "</table>\n",
       "</div>"
      ],
      "text/plain": [
       "       symbol         price first_symbol second_symbol\n",
       "1      LTCBTC    0.00342600          LTC           BTC\n",
       "189    LTCETH    0.11392000          LTC           ETH\n",
       "190   LTCUSDT  192.15000000          LTC          USDT\n",
       "191    LTCBNB    0.73400000          LTC           BNB\n",
       "450   LTCTUSD  192.36000000          LTC          TUSD\n",
       "451    LTCPAX  191.74000000          LTC           PAX\n",
       "452   LTCUSDC  191.92000000          LTC          USDC\n",
       "640   LTCBUSD  192.00000000          LTC          BUSD\n",
       "1154   LTCEUR  162.71500000          LTC           EUR"
      ]
     },
     "execution_count": 16,
     "metadata": {},
     "output_type": "execute_result"
    }
   ],
   "source": [
    "df_prices[df_prices['first_symbol']=='LTC']"
   ]
  },
  {
   "cell_type": "markdown",
   "metadata": {},
   "source": [
    "---"
   ]
  },
  {
   "cell_type": "code",
   "execution_count": 38,
   "metadata": {},
   "outputs": [
    {
     "data": {
      "text/html": [
       "<div>\n",
       "<style scoped>\n",
       "    .dataframe tbody tr th:only-of-type {\n",
       "        vertical-align: middle;\n",
       "    }\n",
       "\n",
       "    .dataframe tbody tr th {\n",
       "        vertical-align: top;\n",
       "    }\n",
       "\n",
       "    .dataframe thead th {\n",
       "        text-align: right;\n",
       "    }\n",
       "</style>\n",
       "<table border=\"1\" class=\"dataframe\">\n",
       "  <thead>\n",
       "    <tr style=\"text-align: right;\">\n",
       "      <th></th>\n",
       "      <th>BTC</th>\n",
       "      <th>ETH</th>\n",
       "      <th>EUR</th>\n",
       "      <th>USDT</th>\n",
       "    </tr>\n",
       "  </thead>\n",
       "  <tbody>\n",
       "    <tr>\n",
       "      <th>BTC</th>\n",
       "      <td>1.000</td>\n",
       "      <td>0.000</td>\n",
       "      <td>47489.290</td>\n",
       "      <td>56081.850</td>\n",
       "    </tr>\n",
       "    <tr>\n",
       "      <th>ETH</th>\n",
       "      <td>0.030</td>\n",
       "      <td>1.000</td>\n",
       "      <td>1427.670</td>\n",
       "      <td>12.200</td>\n",
       "    </tr>\n",
       "    <tr>\n",
       "      <th>EUR</th>\n",
       "      <td>0.000</td>\n",
       "      <td>0.000</td>\n",
       "      <td>1.000</td>\n",
       "      <td>1.181</td>\n",
       "    </tr>\n",
       "    <tr>\n",
       "      <th>USDT</th>\n",
       "      <td>0.000</td>\n",
       "      <td>0.000</td>\n",
       "      <td>0.000</td>\n",
       "      <td>1.000</td>\n",
       "    </tr>\n",
       "  </tbody>\n",
       "</table>\n",
       "</div>"
      ],
      "text/plain": [
       "       BTC   ETH       EUR      USDT\n",
       "BTC  1.000 0.000 47489.290 56081.850\n",
       "ETH  0.030 1.000  1427.670    12.200\n",
       "EUR  0.000 0.000     1.000     1.181\n",
       "USDT 0.000 0.000     0.000     1.000"
      ]
     },
     "execution_count": 38,
     "metadata": {},
     "output_type": "execute_result"
    }
   ],
   "source": [
    "symbols_lite = ['BTC','ETH','EUR','USDT']\n",
    "matrix_lite = change_matrix.loc[symbols_lite, symbols_lite]\n",
    "matrix_lite"
   ]
  },
  {
   "cell_type": "code",
   "execution_count": 39,
   "metadata": {},
   "outputs": [],
   "source": [
    "matrix = np.tril(matrix_lite.to_numpy())\n",
    "matrix_mask = matrix!=0\n",
    "upper_matrix = np.reciprocal(matrix, where=matrix_mask).T"
   ]
  },
  {
   "cell_type": "code",
   "execution_count": 44,
   "metadata": {},
   "outputs": [],
   "source": [
    "matrix = np.triu(matrix_lite.to_numpy())\n",
    "matrix_mask = matrix!=0\n",
    "lower_matrix = np.reciprocal(matrix, where=matrix_mask).T"
   ]
  },
  {
   "cell_type": "code",
   "execution_count": 56,
   "metadata": {},
   "outputs": [],
   "source": [
    "matrix_lite = matrix_lite + pd.DataFrame(upper_matrix + lower_matrix - np.identity(len(matrix_lite))*2, index=symbols_lite, columns=symbols_lite)"
   ]
  },
  {
   "cell_type": "code",
   "execution_count": 57,
   "metadata": {},
   "outputs": [
    {
     "data": {
      "text/html": [
       "<div>\n",
       "<style scoped>\n",
       "    .dataframe tbody tr th:only-of-type {\n",
       "        vertical-align: middle;\n",
       "    }\n",
       "\n",
       "    .dataframe tbody tr th {\n",
       "        vertical-align: top;\n",
       "    }\n",
       "\n",
       "    .dataframe thead th {\n",
       "        text-align: right;\n",
       "    }\n",
       "</style>\n",
       "<table border=\"1\" class=\"dataframe\">\n",
       "  <thead>\n",
       "    <tr style=\"text-align: right;\">\n",
       "      <th></th>\n",
       "      <th>BTC</th>\n",
       "      <th>ETH</th>\n",
       "      <th>EUR</th>\n",
       "      <th>USDT</th>\n",
       "    </tr>\n",
       "  </thead>\n",
       "  <tbody>\n",
       "    <tr>\n",
       "      <th>BTC</th>\n",
       "      <td>1.000</td>\n",
       "      <td>33.280</td>\n",
       "      <td>47489.290</td>\n",
       "      <td>56081.850</td>\n",
       "    </tr>\n",
       "    <tr>\n",
       "      <th>ETH</th>\n",
       "      <td>0.030</td>\n",
       "      <td>1.000</td>\n",
       "      <td>1427.670</td>\n",
       "      <td>12.200</td>\n",
       "    </tr>\n",
       "    <tr>\n",
       "      <th>EUR</th>\n",
       "      <td>47489.290</td>\n",
       "      <td>1427.671</td>\n",
       "      <td>1.000</td>\n",
       "      <td>1.181</td>\n",
       "    </tr>\n",
       "    <tr>\n",
       "      <th>USDT</th>\n",
       "      <td>56081.850</td>\n",
       "      <td>12.282</td>\n",
       "      <td>2.028</td>\n",
       "      <td>1.000</td>\n",
       "    </tr>\n",
       "  </tbody>\n",
       "</table>\n",
       "</div>"
      ],
      "text/plain": [
       "           BTC      ETH       EUR      USDT\n",
       "BTC      1.000   33.280 47489.290 56081.850\n",
       "ETH      0.030    1.000  1427.670    12.200\n",
       "EUR  47489.290 1427.671     1.000     1.181\n",
       "USDT 56081.850   12.282     2.028     1.000"
      ]
     },
     "execution_count": 57,
     "metadata": {},
     "output_type": "execute_result"
    }
   ],
   "source": [
    "matrix_lite"
   ]
  },
  {
   "cell_type": "code",
   "execution_count": 58,
   "metadata": {},
   "outputs": [
    {
     "data": {
      "text/plain": [
       "33.280282813798834"
      ]
     },
     "execution_count": 58,
     "metadata": {},
     "output_type": "execute_result"
    }
   ],
   "source": [
    "matrix_lite.loc['BTC', 'ETH'] "
   ]
  },
  {
   "cell_type": "code",
   "execution_count": 59,
   "metadata": {},
   "outputs": [
    {
     "data": {
      "text/plain": [
       "1427.67"
      ]
     },
     "execution_count": 59,
     "metadata": {},
     "output_type": "execute_result"
    }
   ],
   "source": [
    "matrix_lite.loc['ETH', 'EUR'] "
   ]
  },
  {
   "cell_type": "code",
   "execution_count": 64,
   "metadata": {},
   "outputs": [
    {
     "data": {
      "text/plain": [
       "47489.29002105738"
      ]
     },
     "execution_count": 64,
     "metadata": {},
     "output_type": "execute_result"
    }
   ],
   "source": [
    "matrix_lite.loc['EUR', 'BTC'] "
   ]
  },
  {
   "cell_type": "code",
   "execution_count": 63,
   "metadata": {},
   "outputs": [
    {
     "data": {
      "text/plain": [
       "(array([ 73495.37129127, -73491.36632054,   1081.52492549,  -1081.52989623]),\n",
       " array([[-0.70704711, -0.7070527 , -0.00898256, -0.0089551 ],\n",
       "        [-0.00896831, -0.00896795,  0.70724786,  0.70686894],\n",
       "        [-0.45705005,  0.45704879,  0.53918387, -0.53988733],\n",
       "        [-0.53954536,  0.53953912, -0.45716577,  0.45692207]]))"
      ]
     },
     "execution_count": 63,
     "metadata": {},
     "output_type": "execute_result"
    }
   ],
   "source": [
    "np.linalg.eig(matrix_lite.to_numpy())"
   ]
  }
 ],
 "metadata": {
  "kernelspec": {
   "display_name": "Python 3",
   "language": "python",
   "name": "python3"
  },
  "language_info": {
   "codemirror_mode": {
    "name": "ipython",
    "version": 3
   },
   "file_extension": ".py",
   "mimetype": "text/x-python",
   "name": "python",
   "nbconvert_exporter": "python",
   "pygments_lexer": "ipython3",
   "version": "3.6.9"
  }
 },
 "nbformat": 4,
 "nbformat_minor": 4
}
