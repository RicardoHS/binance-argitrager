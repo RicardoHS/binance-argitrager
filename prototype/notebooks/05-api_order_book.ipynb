{
 "cells": [
  {
   "cell_type": "code",
   "execution_count": 26,
   "metadata": {},
   "outputs": [],
   "source": [
    "import urllib\n",
    "import urllib.request\n",
    "import json\n",
    "\n",
    "import time\n",
    "\n",
    "import pandas as pd\n",
    "import numpy as np"
   ]
  },
  {
   "cell_type": "code",
   "execution_count": 2,
   "metadata": {},
   "outputs": [],
   "source": [
    "binance_base = \"https://<>.binance.com\"\n",
    "binance_subdomains = [\"api\", \"api1\", \"api2\", \"api3\"]\n",
    "\n",
    "binance_url = binance_base.replace('<>', binance_subdomains[0])\n",
    "\n",
    "binance_endpoints = {\n",
    "    'ping': ('GET', '/api/v3/ping'),\n",
    "    'server_time': ('GET', '/api/v3/time'),\n",
    "    'exchange_info': ('GET', '/api/v3/exchangeInfo'),\n",
    "    'order_book': ('GET', '/api/v3/depth', {'symbol': True, 'limit': False}),\n",
    "    'recent_trades': ('GET', '/api/v3/trades', {'symbol': True, 'limit': False}),\n",
    "    'average_price': ('GET', '/api/v3/avgPrice', {'symbol': True}),\n",
    "    'price': ('GET', '/api/v3/ticker/price', {'symbol': False}),\n",
    "    'best_book_price': ('GET', '/api/v3/ticker/bookTicker', {'symbol': False})\n",
    "}"
   ]
  },
  {
   "cell_type": "code",
   "execution_count": 4,
   "metadata": {},
   "outputs": [],
   "source": [
    "def get_symbols():\n",
    "    binance_uri = binance_url + binance_endpoints['exchange_info'][1]\n",
    "\n",
    "    web_url = urllib.request.urlopen(binance_uri)\n",
    "    data = web_url.read()\n",
    "    encoding = web_url.info().get_content_charset('utf-8')\n",
    "    JSON_object = json.loads(data.decode(encoding))\n",
    "\n",
    "    df_symbols = pd.DataFrame(JSON_object['symbols'])\n",
    "    df_symbols = df_symbols[df_symbols['status']=='TRADING']\n",
    "    \n",
    "    assets = sorted(list(set(df_symbols['baseAsset'].unique()).union(set(df_symbols['quoteAsset'].unique()))))\n",
    "    symbols = sorted(list(df_symbols['symbol'].unique()))\n",
    "    return symbols, assets\n",
    "\n",
    "symbols, _ = get_symbols() "
   ]
  },
  {
   "cell_type": "code",
   "execution_count": 44,
   "metadata": {},
   "outputs": [],
   "source": [
    "def get_symbol_prices(symbol='BTCEUR'):\n",
    "    binance_uri = binance_url + binance_endpoints['order_book'][1] + f'?symbol={symbol}&limit=5'\n",
    "\n",
    "    web_url = urllib.request.urlopen(binance_uri)\n",
    "    data = web_url.read()\n",
    "    encoding = web_url.info().get_content_charset('utf-8')\n",
    "    JSON_object = json.loads(data.decode(encoding))\n",
    "\n",
    "    prices = [float(price) for price, quantity in JSON_object['bids']]\n",
    "    weights = [float(quantity) for price, quantity in JSON_object['bids']]\n",
    "    buy = np.average(prices, weights=weights)\n",
    "\n",
    "    prices = [float(price) for price, quantity in JSON_object['asks']]\n",
    "    weights = [float(quantity) for price, quantity in JSON_object['asks']]\n",
    "    sell = np.average(prices, weights=weights)\n",
    "\n",
    "    return buy, sell"
   ]
  },
  {
   "cell_type": "code",
   "execution_count": 45,
   "metadata": {},
   "outputs": [
    {
     "name": "stdout",
     "output_type": "stream",
     "text": [
      "(48898.17573288813, 48908.44375596953)\n"
     ]
    },
    {
     "data": {
      "text/plain": [
       "358.43408203125"
      ]
     },
     "execution_count": 45,
     "metadata": {},
     "output_type": "execute_result"
    }
   ],
   "source": [
    "time_i = time.time()*1000\n",
    "print(get_symbol_prices())\n",
    "time_e = time.time()*1000\n",
    "time_e-time_i"
   ]
  },
  {
   "cell_type": "code",
   "execution_count": null,
   "metadata": {},
   "outputs": [],
   "source": []
  }
 ],
 "metadata": {
  "kernelspec": {
   "display_name": "Python 3",
   "language": "python",
   "name": "python3"
  },
  "language_info": {
   "codemirror_mode": {
    "name": "ipython",
    "version": 3
   },
   "file_extension": ".py",
   "mimetype": "text/x-python",
   "name": "python",
   "nbconvert_exporter": "python",
   "pygments_lexer": "ipython3",
   "version": "3.6.9"
  }
 },
 "nbformat": 4,
 "nbformat_minor": 4
}
