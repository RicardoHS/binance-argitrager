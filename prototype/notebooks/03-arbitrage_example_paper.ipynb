{
 "cells": [
  {
   "cell_type": "code",
   "execution_count": 21,
   "metadata": {},
   "outputs": [],
   "source": [
    "import numpy as np\n",
    "import pandas as pd"
   ]
  },
  {
   "cell_type": "code",
   "execution_count": 12,
   "metadata": {},
   "outputs": [],
   "source": [
    "def compute_API(lambda_max, n):\n",
    "    return np.abs(lambda_max-n)/(n-1)"
   ]
  },
  {
   "cell_type": "code",
   "execution_count": 5,
   "metadata": {},
   "outputs": [
    {
     "data": {
      "text/plain": [
       "array([[ 1.    ,  1.1038,  0.6888,  1.19  ,  7.8   ,  1.8235],\n",
       "       [ 0.905 ,  1.    ,  0.6241,  1.0955,  7.0801,  1.6403],\n",
       "       [ 1.4501,  1.6026,  1.    ,  1.7705, 11.32  ,  2.6506],\n",
       "       [ 0.8893,  0.9099,  0.5677,  1.    ,  6.43  ,  1.4957],\n",
       "       [ 0.1282,  0.1414,  0.0883,  0.1555,  1.    ,  0.2328],\n",
       "       [ 0.5521,  0.6098,  0.3773,  0.6681,  4.31  ,  1.    ]])"
      ]
     },
     "execution_count": 5,
     "metadata": {},
     "output_type": "execute_result"
    }
   ],
   "source": [
    "A = np.array([[1, 1.1038, 0.6888, 1.19, 7.8, 1.8235],\n",
    "               [0.905, 1, 0.6241, 1.0955, 7.0801, 1.6403],\n",
    "               [1.4501, 1.6026, 1, 1.7705, 11.32, 2.6506],\n",
    "               [0.8893, 0.9099, 0.5677, 1, 6.43, 1.4957],\n",
    "               [0.1282, 0.1414, 0.0883, 0.1555, 1, 0.2328],\n",
    "               [0.5521, 0.6098, 0.3773, 0.6681, 4.3100, 1]])\n",
    "A"
   ]
  },
  {
   "cell_type": "code",
   "execution_count": 117,
   "metadata": {},
   "outputs": [
    {
     "name": "stdout",
     "output_type": "stream",
     "text": [
      "0 (6.011554943772773+0j) 0.0023109887545546214\n",
      "[-0.44852453+0.j -0.40701659+0.j -0.65381971+0.j -0.37545331+0.j\n",
      " -0.05763717+0.j -0.24778175+0.j]\n",
      "Arbitrage oportunity detected.\n",
      "CPU times: user 1.41 ms, sys: 0 ns, total: 1.41 ms\n",
      "Wall time: 1.25 ms\n"
     ]
    }
   ],
   "source": [
    "%%time\n",
    "\n",
    "eigvals, eigvects = np.linalg.eig(A)\n",
    "idxmax = np.argmax(eigvals)\n",
    "valmax = eigvals[idxmax]\n",
    "valapi = compute_API(valmax, len(A))\n",
    "vecmax = eigvects[:,idxmax]\n",
    "print(idxmax, valmax, valapi)\n",
    "print(vecmax)\n",
    "\n",
    "if valapi>0:\n",
    "    print('Arbitrage oportunity detected.')\n",
    "else:\n",
    "    print('Arbitrage oportunity no detected.')"
   ]
  },
  {
   "cell_type": "code",
   "execution_count": 131,
   "metadata": {},
   "outputs": [
    {
     "name": "stdout",
     "output_type": "stream",
     "text": [
      "Arbitrage orders:\n",
      "BUY  foreign currency EUR/YEN in Frankfurt(EUR):  1 / 0.9099 = x YEN\n",
      "SELL foreign currency YEN/USDT in New York(USDT): x * 0.8893 = y USDT\n",
      "BUY  foreign currency UDST/EUR in New York(USDT): y / 0.905 = z EUR\n",
      "There is a increase of 7.996%\n",
      "CPU times: user 1.3 ms, sys: 197 µs, total: 1.5 ms\n",
      "Wall time: 1.23 ms\n"
     ]
    }
   ],
   "source": [
    "%%time\n",
    "\n",
    "B = np.fromfunction(lambda i, j: vecmax[i] / vecmax[j], (len(A),len(A)), dtype=int)\n",
    "C = np.divide(A, B)\n",
    "\n",
    "######\n",
    "C_idx_max_i = int(C.argmax()/C.shape[0])\n",
    "C_idx_max_j = C.argmax()%C.shape[0]\n",
    "C_idx_min_i = int(C.argmin()/C.shape[0])\n",
    "C_idx_min_j = C.argmin()%C.shape[0]\n",
    "\n",
    "overvalued_idx = C_idx_max_i, C_idx_max_j\n",
    "undervalued_idx = C_idx_min_i, C_idx_min_j\n",
    "overvalued_val = C[overvalued_idx]\n",
    "undervalued_val = C[undervalued_idx]\n",
    "\n",
    "bridge_idx = C_idx_min_j, C_idx_max_j\n",
    "base_currency_idx = C_idx_min_j, C_idx_min_j\n",
    "bridge_val = C[bridge_idx]\n",
    "\n",
    "######\n",
    "print('Arbitrage orders:')\n",
    "print(f'BUY  foreign currency EUR/YEN in Frankfurt(EUR):  1 / {A[C_idx_max_i,C_idx_min_j]:.4} = x YEN')\n",
    "print(f'SELL foreign currency YEN/USDT in New York(USDT): x * {A[C_idx_max_i, C_idx_max_j]:.4} = y USDT')\n",
    "print(f'BUY  foreign currency UDST/EUR in New York(USDT): y / {A[C_idx_min_j, C_idx_max_j]:.4} = z EUR')\n",
    "z = 1/A[C_idx_max_i,C_idx_min_j] * A[C_idx_max_i, C_idx_max_j] / A[C_idx_min_j, C_idx_max_j]\n",
    "print(f'There is a increase of {z-1:.3%}')"
   ]
  },
  {
   "cell_type": "code",
   "execution_count": 119,
   "metadata": {},
   "outputs": [
    {
     "data": {
      "text/plain": [
       "(0.9863926872898054+0j)"
      ]
     },
     "execution_count": 119,
     "metadata": {},
     "output_type": "execute_result"
    }
   ],
   "source": [
    "undervalued_val"
   ]
  },
  {
   "cell_type": "code",
   "execution_count": 61,
   "metadata": {},
   "outputs": [
    {
     "data": {
      "text/plain": [
       "((4, 1), (4, 2))"
      ]
     },
     "execution_count": 61,
     "metadata": {},
     "output_type": "execute_result"
    }
   ],
   "source": [
    "(C_idx_max_i+1, C_idx_max_j+1), (C_idx_min_i+1, C_idx_min_j+1)"
   ]
  }
 ],
 "metadata": {
  "kernelspec": {
   "display_name": "Python 3",
   "language": "python",
   "name": "python3"
  },
  "language_info": {
   "codemirror_mode": {
    "name": "ipython",
    "version": 3
   },
   "file_extension": ".py",
   "mimetype": "text/x-python",
   "name": "python",
   "nbconvert_exporter": "python",
   "pygments_lexer": "ipython3",
   "version": "3.6.9"
  }
 },
 "nbformat": 4,
 "nbformat_minor": 4
}
