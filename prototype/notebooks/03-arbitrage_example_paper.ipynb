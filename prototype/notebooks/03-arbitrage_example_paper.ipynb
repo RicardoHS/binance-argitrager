{
 "cells": [
  {
   "cell_type": "markdown",
   "metadata": {},
   "source": [
    "# Arbitrage algorithm example\n",
    "\n",
    "[example from here](https://papers.ssrn.com/sol3/papers.cfm?abstract_id=1096549)"
   ]
  },
  {
   "cell_type": "code",
   "execution_count": 1,
   "metadata": {},
   "outputs": [],
   "source": [
    "import numpy as np\n",
    "import pandas as pd"
   ]
  },
  {
   "cell_type": "code",
   "execution_count": 2,
   "metadata": {},
   "outputs": [],
   "source": [
    "def compute_API(lambda_max, n):\n",
    "    return np.abs(lambda_max-n)/(n-1)"
   ]
  },
  {
   "cell_type": "code",
   "execution_count": 3,
   "metadata": {},
   "outputs": [],
   "source": [
    "def calculate_arbitrage(vecmax):\n",
    "    B = np.fromfunction(lambda i, j: vecmax[i] / vecmax[j], (len(A),len(A)), dtype=int)\n",
    "    C = np.divide(A, B)\n",
    "\n",
    "    C_max = np.unravel_index(C.argmax(), C.shape)\n",
    "    C_min = np.unravel_index(C.argmin(), C.shape)\n",
    "\n",
    "    # Algorithm\n",
    "    # BUY = division\n",
    "    # SELL = multiply\n",
    "    print('Arbitrage orders: ', end=\"\")\n",
    "    if C_max[0]==C_min[1] and C_max[1]==C_min[0]:\n",
    "        # Direct arbitrage\n",
    "        # Use currency C_min[1] and buy currency C_min[0] in location C_min[1]\n",
    "        # and sell it for currency C_max[0] in location C_max[1]\n",
    "        print('DIRECT')\n",
    "        aer = np.real(1/C[C_min]*C[C_max]-1)\n",
    "\n",
    "        print(f'{currencies[C_min[1]]} -> {currencies[C_min[0]]} -> {currencies[C_min[1]]} : AER = {aer:.3%}')\n",
    "        print(f'BUY  {currencies[C_min[0]]}/{currencies[C_min[1]]}({A[C_min]}) in {locations[C_min[1]]:6}')\n",
    "        print(f'SELL {currencies[C_max[0]]}/{currencies[C_min[0]]}({A[C_max[0],C_min[0]]}) in {locations[C_max[1]]:6}')\n",
    "\n",
    "        operation = 1/A[C_min]*A[C_max]\n",
    "        print(f'1/{A[C_min]:.4}*{A[C_max]:.4} = {operation:.5}')\n",
    "\n",
    "    elif C_max[0]==C_min[0] or C_max[1]==C_min[1]:\n",
    "        # Triangular arbitrage\n",
    "        if C_max[0]==C_min[0]:\n",
    "            # Arbitrage elements in the same row\n",
    "            # Use currency C_min[1] and buy currency C_min[0] in location C_min[1]\n",
    "            # then sell it for currency C_max[1] in location C_max[1]\n",
    "            # then buy currency C_max[1] in location C_max[1]\n",
    "            print('TRIANGULAR ROW')\n",
    "            aer = np.real(1/C[C_min]*C[C_min[0],C_max[1]]/C[C_min[1],C_max[1]]-1)\n",
    "\n",
    "            print(f'{currencies[C_min[1]]} -> {currencies[C_min[0]]} -> {currencies[C_max[1]]} -> {currencies[C_min[1]]} : AER = {aer:.3%}')\n",
    "            print(f'BUY  {currencies[C_min[0]]}/{currencies[C_min[1]]}({A[C_min]}) in {locations[C_min[1]]}')\n",
    "            print(f'SELL {currencies[C_min[0]]}/{currencies[C_max[1]]}({A[C_min[0],C_max[1]]}) in {locations[C_max[1]]}')\n",
    "            print(f'BUY  {currencies[C_min[1]]}/{currencies[C_max[1]]}({A[C_min[1],C_max[1]]}) in {locations[C_max[1]]}')\n",
    "            operation = 1/A[C_min]*A[C_min[0],C_max[1]]/A[C_min[1],C_max[1]]\n",
    "            print(f'1/{A[C_min]:.4}*{A[C_min[0],C_max[1]]:.4}/{A[C_min[1],C_max[1]]:.4} = {operation:.5}')\n",
    "        else: # C_max[1]==C_min[1]\n",
    "            # Arbitrage elements in the same col\n",
    "            # Use currency C_min[1] and buy currency C_min[0] in location C_min[1]\n",
    "            # then sell it for currency C_max[0] in location C_max[0]\n",
    "            # then sell it for currency C_min[1] in location C_max[1]\n",
    "            print('TRIANGULAR COLUMN')\n",
    "            aer = np.real(1/C[C_min]*C[C_min[0], C_max[0]]*C[C_max[0],C_max[1]]-1)\n",
    "\n",
    "            print(f'{currencies[C_min[1]]} -> {currencies[C_min[0]]} -> {currencies[C_max[0]]} -> {currencies[C_min[1]]} : AER = {aer:.3%}')\n",
    "            print(f'BUY {currencies[C_min[0]]}/{currencies[C_min[1]]}({A[C_min]}) in {locations[C_min[1]]}')\n",
    "            print(f'SELL {currencies[C_min[0]]}/{currencies[C_max[0]]}({A[C_min[0],C_max[0]]}) in {locations[C_max[0]]}')\n",
    "            print(f'SELL {currencies[C_max[0]]}/{currencies[C_min[1]]}({A[C_max[0],C_min[1]]}) in {locations[C_max[1]]}')\n",
    "            operation = 1/A[C_min]*A[C_min[0],C_max[0]]*A[C_max[0],C_max[1]]\n",
    "            print(f'1/{A[C_min]:.4}*{A[C_min[0],C_max[0]]:.4}*{A[C_max[0],C_max[1]]:.4} = {operation:.5}')\n",
    "    else:\n",
    "        # Cuadrangular arbitrage\n",
    "        # Arbitrage that involves four currencies and four locations\n",
    "        # Use currency C_min[1] and buy currency C_min[0] in location C_min[1]\n",
    "        # then sell it for currency C_max[0] in location C_max[0]\n",
    "        # then sell it for currency C_max[1] in location C_max[1]\n",
    "        # then buy currency C_min[1] in location C_max[1]\n",
    "        print('CUADRANGULAR')\n",
    "        aer = np.real(1/C[C_min]*C[C_min[0],C_max[0]]*C[C_max]/C[C_min[1],C_max[1]]-1)\n",
    "\n",
    "        print(f'{currencies[C_min[1]]} -> {currencies[C_min[0]]} -> {currencies[C_max[0]]} -> {currencies[C_max[1]]} -> {currencies[C_min[1]]} : AER = {aer:.3%}')\n",
    "        print(f'BUY  {currencies[C_min[0]]}/{currencies[C_min[1]]}({A[C_min]}) in {locations[C_min[1]]}')\n",
    "        print(f'SELL {currencies[C_min[0]]}/{currencies[C_max[0]]}({A[C_min[0],C_max[0]]}) in {locations[C_max[0]]}')\n",
    "        print(f'SELL {currencies[C_max[0]]}/{currencies[C_max[1]]}({A[C_max[0],C_max[1]]}) in {locations[C_max[1]]}')\n",
    "        print(f'BUY  {currencies[C_min[1]]}/{currencies[C_max[1]]}({A[C_min[1],C_max[1]]}) in {locations[C_max[1]]}')\n",
    "        operation = 1/A[C_min]*A[C_min[0],C_max[0]]*A[C_max[0],C_max[1]]/A[C_min[1],C_max[1]]\n",
    "        print(f'1/{A[C_min]:.4}*{A[C_min[0],C_max[0]]:.4}*{A[C_max[0],C_max[1]]:.4}/{A[C_min[1],C_max[1]]:.4} = {operation:.5}')"
   ]
  },
  {
   "cell_type": "code",
   "execution_count": 4,
   "metadata": {},
   "outputs": [],
   "source": [
    "currencies = ['USDT', 'EUR', 'POUND', 'YEN', 'HKDOLLAR', 'SINGDOLLAR']\n",
    "locations = ['NY', 'FRANK', 'LOND', 'TOKYO', 'HK', 'SING']"
   ]
  },
  {
   "cell_type": "code",
   "execution_count": 5,
   "metadata": {},
   "outputs": [
    {
     "data": {
      "text/plain": [
       "array([[ 1.    ,  1.1038,  0.6888,  1.19  ,  7.8   ,  1.8235],\n",
       "       [ 0.905 ,  1.    ,  0.6241,  1.0955,  7.0801,  1.6403],\n",
       "       [ 1.4501,  1.6026,  1.    ,  1.7705, 11.32  ,  2.6506],\n",
       "       [ 0.8893,  0.9099,  0.5677,  1.    ,  6.43  ,  1.4957],\n",
       "       [ 0.1282,  0.1414,  0.0883,  0.1555,  1.    ,  0.2328],\n",
       "       [ 0.5521,  0.6098,  0.3773,  0.6681,  4.31  ,  1.    ]])"
      ]
     },
     "execution_count": 5,
     "metadata": {},
     "output_type": "execute_result"
    }
   ],
   "source": [
    "A = np.array([[1, 1.1038, 0.6888, 1.19, 7.8, 1.8235],\n",
    "               [0.905, 1, 0.6241, 1.0955, 7.0801, 1.6403],\n",
    "               [1.4501, 1.6026, 1, 1.7705, 11.32, 2.6506],\n",
    "               [0.8893, 0.9099, 0.5677, 1, 6.43, 1.4957],\n",
    "               [0.1282, 0.1414, 0.0883, 0.1555, 1, 0.2328],\n",
    "               [0.5521, 0.6098, 0.3773, 0.6681, 4.3100, 1]])\n",
    "A"
   ]
  },
  {
   "cell_type": "code",
   "execution_count": 6,
   "metadata": {},
   "outputs": [
    {
     "name": "stdout",
     "output_type": "stream",
     "text": [
      "Arbitrage oportunity detected. API=0.002311\n",
      "Arbitrage orders: TRIANGULAR ROW\n",
      "EUR -> YEN -> USDT -> EUR : AER = 7.996%\n",
      "BUY  YEN/EUR(0.9099) in FRANK\n",
      "SELL YEN/USDT(0.8893) in NY\n",
      "BUY  EUR/USDT(0.905) in NY\n",
      "1/0.9099*0.8893/0.905 = 1.08\n",
      "CPU times: user 668 µs, sys: 0 ns, total: 668 µs\n",
      "Wall time: 551 µs\n"
     ]
    }
   ],
   "source": [
    "%%time\n",
    "\n",
    "eigvals, eigvects = np.linalg.eig(A)\n",
    "idxmax = np.argmax(eigvals)\n",
    "valmax = eigvals[idxmax]\n",
    "valapi = compute_API(valmax, len(A))\n",
    "vecmax = eigvects[:,idxmax]\n",
    "\n",
    "if valapi>0:\n",
    "    print(f'Arbitrage oportunity detected. API={valapi:.4}')\n",
    "    calculate_arbitrage(vecmax)\n",
    "else:\n",
    "    print(f'Arbitrage oportunity no detected. API={valapi:.4}')"
   ]
  },
  {
   "cell_type": "markdown",
   "metadata": {},
   "source": [
    "---"
   ]
  },
  {
   "cell_type": "code",
   "execution_count": 11,
   "metadata": {},
   "outputs": [
    {
     "name": "stdout",
     "output_type": "stream",
     "text": [
      "Arbitrage orders: TRIANGULAR ROW\n",
      "EUR -> YEN -> USDT -> EUR : AER = 7.996%\n",
      "BUY  YEN/EUR(0.9099) in FRANK\n",
      "SELL YEN/USDT(0.8893) in NY\n",
      "BUY  EUR/USDT(0.905) in NY\n",
      "1/0.9099*0.8893/0.905 = 1.08\n"
     ]
    }
   ],
   "source": [
    "B = np.fromfunction(lambda i, j: vecmax[i] / vecmax[j], (len(A),len(A)), dtype=int)\n",
    "C = np.divide(A, B)\n",
    "\n",
    "C_max = np.unravel_index(C.argmax(), C.shape)\n",
    "C_min = np.unravel_index(C.argmin(), C.shape)\n",
    "\n",
    "# Algorithm\n",
    "# BUY = division\n",
    "# SELL = multiply\n",
    "print('Arbitrage orders: ', end=\"\")\n",
    "if C_max[0]==C_min[1] and C_max[1]==C_min[0]:\n",
    "    # Direct arbitrage\n",
    "    # Use currency C_min[1] and buy currency C_min[0] in location C_min[1]\n",
    "    # and sell it for currency C_max[0] in location C_max[1]\n",
    "    print('DIRECT')\n",
    "    aer = np.real(1/C[C_min]*C[C_max]-1)\n",
    "\n",
    "    print(f'{currencies[C_min[1]]} -> {currencies[C_min[0]]} -> {currencies[C_min[1]]} : AER = {aer:.3%}')\n",
    "    print(f'BUY  {currencies[C_min[0]]}/{currencies[C_min[1]]}({A[C_min]}) in {locations[C_min[1]]:6}')\n",
    "    print(f'SELL {currencies[C_max[0]]}/{currencies[C_min[0]]}({A[C_max[0],C_min[0]]}) in {locations[C_max[1]]:6}')\n",
    "\n",
    "    operation = 1/A[C_min]*A[C_max]\n",
    "    print(f'1/{A[C_min]:.4}*{A[C_max]:.4} = {operation:.5}')\n",
    "\n",
    "elif C_max[0]==C_min[0] or C_max[1]==C_min[1]:\n",
    "    # Triangular arbitrage\n",
    "    if C_max[0]==C_min[0]:\n",
    "        # Arbitrage elements in the same row\n",
    "        # Use currency C_min[1] and buy currency C_min[0] in location C_min[1]\n",
    "        # then sell it for currency C_max[1] in location C_max[1]\n",
    "        # then buy currency C_max[1] in location C_max[1]\n",
    "        print('TRIANGULAR ROW')\n",
    "        aer = np.real(1/C[C_min]*C[C_min[0],C_max[1]]/C[C_min[1],C_max[1]]-1)\n",
    "\n",
    "        print(f'{currencies[C_min[1]]} -> {currencies[C_min[0]]} -> {currencies[C_max[1]]} -> {currencies[C_min[1]]} : AER = {aer:.3%}')\n",
    "        print(f'BUY  {currencies[C_min[0]]}/{currencies[C_min[1]]}({A[C_min]}) in {locations[C_min[1]]}')\n",
    "        print(f'SELL {currencies[C_min[0]]}/{currencies[C_max[1]]}({A[C_min[0],C_max[1]]}) in {locations[C_max[1]]}')\n",
    "        print(f'BUY  {currencies[C_min[1]]}/{currencies[C_max[1]]}({A[C_min[1],C_max[1]]}) in {locations[C_max[1]]}')\n",
    "        operation = 1/A[C_min]*A[C_min[0],C_max[1]]/A[C_min[1],C_max[1]]\n",
    "        print(f'1/{A[C_min]:.4}*{A[C_min[0],C_max[1]]:.4}/{A[C_min[1],C_max[1]]:.4} = {operation:.5}')\n",
    "    else: # C_max[1]==C_min[1]\n",
    "        # Arbitrage elements in the same col\n",
    "        # Use currency C_min[1] and buy currency C_min[0] in location C_min[1]\n",
    "        # then sell it for currency C_max[0] in location C_max[0]\n",
    "        # then sell it for currency C_min[1] in location C_max[1]\n",
    "        print('TRIANGULAR COLUMN')\n",
    "        aer = np.real(1/C[C_min]*C[C_min[0], C_max[0]]*C[C_max[0],C_max[1]]-1)\n",
    "\n",
    "        print(f'{currencies[C_min[1]]} -> {currencies[C_min[0]]} -> {currencies[C_max[0]]} -> {currencies[C_min[1]]} : AER = {aer:.3%}')\n",
    "        print(f'BUY {currencies[C_min[0]]}/{currencies[C_min[1]]}({A[C_min]}) in {locations[C_min[1]]}')\n",
    "        print(f'SELL {currencies[C_min[0]]}/{currencies[C_max[0]]}({A[C_min[0],C_max[0]]}) in {locations[C_max[0]]}')\n",
    "        print(f'SELL {currencies[C_max[0]]}/{currencies[C_min[1]]}({A[C_max[0],C_min[1]]}) in {locations[C_max[1]]}')\n",
    "        operation = 1/A[C_min]*A[C_min[0],C_max[0]]*A[C_max[0],C_max[1]]\n",
    "        print(f'1/{A[C_min]:.4}*{A[C_min[0],C_max[0]]:.4}*{A[C_max[0],C_max[1]]:.4} = {operation:.5}')\n",
    "else:\n",
    "    # Cuadrangular arbitrage\n",
    "    # Arbitrage that involves four currencies and four locations\n",
    "    # Use currency C_min[1] and buy currency C_min[0] in location C_min[1]\n",
    "    # then sell it for currency C_max[0] in location C_max[0]\n",
    "    # then sell it for currency C_max[1] in location C_max[1]\n",
    "    # then buy currency C_min[1] in location C_max[1]\n",
    "    print('CUADRANGULAR')\n",
    "    aer = np.real(1/C[C_min]*C[C_min[0],C_max[0]]*C[C_max]/C[C_min[1],C_max[1]]-1)\n",
    "\n",
    "    print(f'{currencies[C_min[1]]} -> {currencies[C_min[0]]} -> {currencies[C_max[0]]} -> {currencies[C_max[1]]} -> {currencies[C_min[1]]} : AER = {aer:.3%}')\n",
    "    print(f'BUY  {currencies[C_min[0]]}/{currencies[C_min[1]]}({A[C_min]}) in {locations[C_min[1]]}')\n",
    "    print(f'SELL {currencies[C_min[0]]}/{currencies[C_max[0]]}({A[C_min[0],C_max[0]]}) in {locations[C_max[0]]}')\n",
    "    print(f'SELL {currencies[C_max[0]]}/{currencies[C_max[1]]}({A[C_max[0],C_max[1]]}) in {locations[C_max[1]]}')\n",
    "    print(f'BUY  {currencies[C_min[1]]}/{currencies[C_max[1]]}({A[C_min[1],C_max[1]]}) in {locations[C_max[1]]}')\n",
    "    operation = 1/A[C_min]*A[C_min[0],C_max[0]]*A[C_max[0],C_max[1]]/A[C_min[1],C_max[1]]\n",
    "    print(f'1/{A[C_min]:.4}*{A[C_min[0],C_max[0]]:.4}*{A[C_max[0],C_max[1]]:.4}/{A[C_min[1],C_max[1]]:.4} = {operation:.5}')"
   ]
  },
  {
   "cell_type": "code",
   "execution_count": 12,
   "metadata": {},
   "outputs": [
    {
     "name": "stdout",
     "output_type": "stream",
     "text": [
      "-16.9041%\n"
     ]
    }
   ],
   "source": [
    "x = 1/1.095\n",
    "y=x*0.9099\n",
    "print(f'{y-1:.4%}')"
   ]
  },
  {
   "cell_type": "code",
   "execution_count": 13,
   "metadata": {},
   "outputs": [
    {
     "data": {
      "text/plain": [
       "array([ 6.01155494e+00+0.j        , -5.44904137e-03+0.03210245j,\n",
       "       -5.44904137e-03-0.03210245j, -2.75215004e-04+0.00606689j,\n",
       "       -2.75215004e-04-0.00606689j, -1.06431030e-04+0.j        ])"
      ]
     },
     "execution_count": 13,
     "metadata": {},
     "output_type": "execute_result"
    }
   ],
   "source": [
    "eigvals"
   ]
  },
  {
   "cell_type": "code",
   "execution_count": 23,
   "metadata": {},
   "outputs": [
    {
     "data": {
      "text/plain": [
       "array([[-0.44852453, -0.40701659, -0.65381971, -0.37545331, -0.05763717,\n",
       "        -0.24778175],\n",
       "       [-0.11670674, -0.1726539 , -0.35662142,  0.72987261, -0.02473111,\n",
       "        -0.07454008],\n",
       "       [-0.11670674, -0.1726539 , -0.35662142,  0.72987261, -0.02473111,\n",
       "        -0.07454008],\n",
       "       [ 0.02678808,  0.32050237, -0.8342348 , -0.0063796 , -0.00818839,\n",
       "         0.14561592],\n",
       "       [ 0.02678808,  0.32050237, -0.8342348 , -0.0063796 , -0.00818839,\n",
       "         0.14561592],\n",
       "       [ 0.01371163, -0.94628762, -0.26515278,  0.00466774,  0.12264773,\n",
       "         0.13777326]])"
      ]
     },
     "execution_count": 23,
     "metadata": {},
     "output_type": "execute_result"
    }
   ],
   "source": [
    "np.real(eigvects).T"
   ]
  },
  {
   "cell_type": "code",
   "execution_count": 19,
   "metadata": {},
   "outputs": [
    {
     "data": {
      "text/plain": [
       "['USDT', 'EUR', 'POUND', 'YEN', 'HKDOLLAR', 'SINGDOLLAR']"
      ]
     },
     "execution_count": 19,
     "metadata": {},
     "output_type": "execute_result"
    }
   ],
   "source": [
    "currencies"
   ]
  },
  {
   "cell_type": "code",
   "execution_count": 22,
   "metadata": {},
   "outputs": [
    {
     "data": {
      "text/plain": [
       "USDT         -0.448525\n",
       "EUR          -0.407017\n",
       "POUND        -0.653820\n",
       "YEN          -0.375453\n",
       "HKDOLLAR     -0.057637\n",
       "SINGDOLLAR   -0.247782\n",
       "dtype: float64"
      ]
     },
     "execution_count": 22,
     "metadata": {},
     "output_type": "execute_result"
    }
   ],
   "source": [
    "pd.Series(np.real(vecmax), index=currencies)"
   ]
  },
  {
   "cell_type": "code",
   "execution_count": null,
   "metadata": {},
   "outputs": [],
   "source": []
  }
 ],
 "metadata": {
  "kernelspec": {
   "display_name": "Python 3",
   "language": "python",
   "name": "python3"
  },
  "language_info": {
   "codemirror_mode": {
    "name": "ipython",
    "version": 3
   },
   "file_extension": ".py",
   "mimetype": "text/x-python",
   "name": "python",
   "nbconvert_exporter": "python",
   "pygments_lexer": "ipython3",
   "version": "3.7.5"
  }
 },
 "nbformat": 4,
 "nbformat_minor": 4
}
