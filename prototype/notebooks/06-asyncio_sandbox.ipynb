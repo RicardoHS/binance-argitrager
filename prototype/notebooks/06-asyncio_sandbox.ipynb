{
 "cells": [
  {
   "cell_type": "code",
   "execution_count": 13,
   "metadata": {},
   "outputs": [],
   "source": [
    "import asyncio\n",
    "import aiohttp\n",
    "from aiohttp import ClientSession\n",
    "\n",
    "import time\n",
    "import json\n",
    "\n",
    "from itertools import cycle\n",
    "import numpy as np\n",
    "import pandas as pd\n",
    "import random \n",
    "\n",
    "from IPython.display import display, clear_output"
   ]
  },
  {
   "cell_type": "code",
   "execution_count": null,
   "metadata": {},
   "outputs": [],
   "source": [
    "# ANSI colors\n",
    "c = (\n",
    "    \"\\033[0m\",   # End of color\n",
    "    \"\\033[36m\",  # Cyan\n",
    "    \"\\033[91m\",  # Red\n",
    "    \"\\033[35m\",  # Magenta\n",
    ")\n",
    "\n",
    "async def makerandom(idx: int, threshold: int = 6) -> int:\n",
    "    print(c[idx + 1] + f\"Initiated makerandom({idx}).\")\n",
    "    i = random.randint(0, 10)\n",
    "    while i <= threshold:\n",
    "        print(c[idx + 1] + f\"makerandom({idx}) == {i} too low; retrying.\")\n",
    "        await asyncio.sleep(idx + 1)\n",
    "        i = random.randint(0, 10)\n",
    "    print(c[idx + 1] + f\"---> Finished: makerandom({idx}) == {i}\" + c[0])\n",
    "    return i\n",
    "\n",
    "async def main():\n",
    "    res = await asyncio.gather(*(makerandom(i, 10 - i - 1) for i in range(3)))\n",
    "    return res"
   ]
  },
  {
   "cell_type": "code",
   "execution_count": null,
   "metadata": {},
   "outputs": [],
   "source": [
    "random.seed(444)\n",
    "#r1, r2, r3 = asyncio.run(main())\n",
    "r1, r2, r3 = await main()\n",
    "print('')\n",
    "print(f\"r1: {r1}, r2: {r2}, r3: {r3}\")"
   ]
  },
  {
   "cell_type": "markdown",
   "metadata": {},
   "source": [
    "---"
   ]
  },
  {
   "cell_type": "code",
   "execution_count": null,
   "metadata": {},
   "outputs": [],
   "source": [
    "async with ClientSession() as session:\n",
    "    res = await session.request(method=\"GET\", url='https://api.binance.com/api/v3/depth?symbol=BTCEUR&limit=5')"
   ]
  },
  {
   "cell_type": "code",
   "execution_count": null,
   "metadata": {},
   "outputs": [],
   "source": [
    "res.status"
   ]
  },
  {
   "cell_type": "code",
   "execution_count": null,
   "metadata": {},
   "outputs": [],
   "source": [
    "async def gather_symbol(symbol):\n",
    "    url = f'https://api.binance.com/api/v3/depth?symbol={symbol}&limit=5'\n",
    "    async with ClientSession() as session:\n",
    "        res = await session.request(method=\"GET\", url=url)\n",
    "        if res.status != 200:\n",
    "            print(res.status)\n",
    "            res.raise_for_status()\n",
    "            return {}\n",
    "        res_json = await res.text()\n",
    "        return (symbol, json.loads(res_json))"
   ]
  },
  {
   "cell_type": "code",
   "execution_count": null,
   "metadata": {},
   "outputs": [],
   "source": [
    "time_i = time.perf_counter()\n",
    "\n",
    "symbol_list = ['BTCEUR', 'ETHBTC', 'ADABTC']*100\n",
    "\n",
    "responses = await asyncio.gather(*(gather_symbol(symbol) for symbol in symbol_list))\n",
    "time_e = time.perf_counter()\n",
    "print(f'{time_e-time_i:.4} seconds')\n",
    "######\n",
    "responses"
   ]
  },
  {
   "cell_type": "markdown",
   "metadata": {},
   "source": [
    "---"
   ]
  },
  {
   "cell_type": "code",
   "execution_count": null,
   "metadata": {},
   "outputs": [],
   "source": [
    "def endless_loop(iterable):\n",
    "    yield from cycle(iterable)"
   ]
  },
  {
   "cell_type": "code",
   "execution_count": null,
   "metadata": {},
   "outputs": [],
   "source": [
    "async def get_symbol_prices(symbol):\n",
    "    binance_uri = f'https://api.binance.com/api/v3/depth?symbol={symbol}&limit=5'\n",
    "\n",
    "    async with ClientSession() as session:\n",
    "        res = await session.request(method=\"GET\", url=binance_uri)\n",
    "        timestamp = time.perf_counter()\n",
    "        res_json = await res.text()\n",
    "    JSON_object = json.loads(res_json)\n",
    "\n",
    "    prices = [float(price) for price, quantity in JSON_object['bids']]\n",
    "    weights = [float(quantity) for price, quantity in JSON_object['bids']]\n",
    "    buy = np.average(prices, weights=weights)\n",
    "\n",
    "    prices = [float(price) for price, quantity in JSON_object['asks']]\n",
    "    weights = [float(quantity) for price, quantity in JSON_object['asks']]\n",
    "    sell = np.average(prices, weights=weights)\n",
    "\n",
    "    return buy, sell, timestamp"
   ]
  },
  {
   "cell_type": "code",
   "execution_count": null,
   "metadata": {},
   "outputs": [],
   "source": [
    "async def gather_symbols_endless_loop(symbol_dict):\n",
    "    symbol_list = symbol_dict.keys()\n",
    "    for sym in endless_loop(symbol_list):\n",
    "        if not symbol_dict[sym][3]:\n",
    "            symbol_dict[sym][3] = True\n",
    "            symbol_dict[sym][:3] = await get_symbol_prices(sym)\n",
    "            symbol_dict[sym][3] = False"
   ]
  },
  {
   "cell_type": "code",
   "execution_count": null,
   "metadata": {},
   "outputs": [],
   "source": [
    "symbol_list = ['BTCEUR', 'ETHBTC', 'ADABTC']\n",
    "symbol_dict = {s:[0,0,0,False] for s in symbol_list}\n",
    "\n",
    "future = asyncio.gather(gather_symbols_endless_loop(symbol_dict))"
   ]
  },
  {
   "cell_type": "code",
   "execution_count": null,
   "metadata": {},
   "outputs": [],
   "source": [
    "symbol_dict"
   ]
  },
  {
   "cell_type": "code",
   "execution_count": null,
   "metadata": {},
   "outputs": [],
   "source": [
    "df_prices = pd.DataFrame(symbol_dict, index=['buy', 'sell', 'timestamp', 'updating']).T.reset_index().rename(columns={'index':'symbol'})\n",
    "df_prices['timestamp_delta'] = df_prices['timestamp'] - time.perf_counter()\n",
    "df_prices"
   ]
  },
  {
   "cell_type": "code",
   "execution_count": null,
   "metadata": {},
   "outputs": [],
   "source": [
    "future.cancel()"
   ]
  },
  {
   "cell_type": "markdown",
   "metadata": {},
   "source": [
    "----"
   ]
  },
  {
   "cell_type": "markdown",
   "metadata": {},
   "source": [
    "# Test asyncio data structure memory manage"
   ]
  },
  {
   "cell_type": "code",
   "execution_count": null,
   "metadata": {},
   "outputs": [],
   "source": [
    "async def add_one(obj, q):\n",
    "    obj += 1\n",
    "    await asyncio.sleep(random.random())\n",
    "    await q.put(obj)\n",
    "    \n",
    "io_queue = asyncio.Queue()\n",
    "asyncio.gather(*(add_one(i, io_queue) for i in range(10)))\n",
    "for i in range(10):    \n",
    "    queue_elements = []\n",
    "    while True:\n",
    "        try:\n",
    "            queue_elements.append(io_queue.get_nowait())\n",
    "        except asyncio.QueueEmpty:\n",
    "            break\n",
    "    print(queue_elements)\n",
    "    await asyncio.sleep(0.5)"
   ]
  },
  {
   "cell_type": "code",
   "execution_count": 4,
   "metadata": {},
   "outputs": [
    {
     "name": "stdout",
     "output_type": "stream",
     "text": [
      "{0: 0, 1: 0, 2: 0} 0\n",
      "{0: 0, 1: 0, 2: 0.2849734772016188} 1\n",
      "{0: 0.7836548310890649, 1: 0.779075155507138, 2: 0.8771648356430297} 5\n",
      "{0: 1.0775043874587005, 1: 1.470960908904119, 2: 0.8771648356430297} 2\n",
      "{0: 1.6971902274935036, 1: 1.7275470501851162, 2: 1.5932142586408564} 6\n",
      "{0: 2.3736612217605657, 1: 2.2101989143456153, 2: 2.4259267889410463} 7\n",
      "{0: 2.3736612217605657, 1: 2.651203548995049, 2: 2.7355008621095016} 2\n",
      "{0: 3.252124979585039, 1: 2.651203548995049, 2: 3.427983138801674} 2\n",
      "{0: 3.796885765311286, 1: 3.8409973455929896, 2: 3.8282353089648358} 6\n",
      "{0: 4.442736838027203, 1: 4.200118615731745, 2: 3.8282353089648358} 3\n",
      "{0: 4.851711568403019, 1: 4.980993041721247, 2: 4.650689051213988} 3\n",
      "{0: 5.184438746406212, 1: 4.980993041721247, 2: 5.3258844912727} 2\n",
      "{0: 5.184438746406212, 1: 5.799734817352582, 2: 5.808308841688194} 5\n",
      "{0: 6.144078633796583, 1: 6.138236989664692, 2: 6.385092635874815} 4\n"
     ]
    },
    {
     "name": "stderr",
     "output_type": "stream",
     "text": [
      "_GatheringFuture exception was never retrieved\n",
      "future: <_GatheringFuture finished exception=CancelledError()>\n",
      "concurrent.futures._base.CancelledError\n"
     ]
    }
   ],
   "source": [
    "async def add_random(queue,key):\n",
    "    while True:\n",
    "        rand = random.random()\n",
    "        await asyncio.sleep(rand)\n",
    "        queue.put_nowait((key,rand))\n",
    "    \n",
    "n = 3\n",
    "io_queue = asyncio.Queue()\n",
    "future = asyncio.gather(*(add_random(io_queue, i) for i in range(n)))\n",
    "mydict = {i:0 for i in range(n)}\n",
    "while True:\n",
    "    # get all current elements on queue and print them forever\n",
    "    try:\n",
    "        queue_elements = []\n",
    "        while True:\n",
    "            try:\n",
    "                queue_elements.append(io_queue.get_nowait())\n",
    "            except asyncio.QueueEmpty:\n",
    "                break\n",
    "        for k,v in queue_elements:\n",
    "            mydict[k] += v\n",
    "        print(mydict, len(queue_elements))\n",
    "        await asyncio.sleep(0.5)\n",
    "    except Exception as e:\n",
    "        future.cancel()\n",
    "        break"
   ]
  },
  {
   "cell_type": "code",
   "execution_count": null,
   "metadata": {},
   "outputs": [],
   "source": [
    "async def add_dict(d,k):\n",
    "    while True:\n",
    "        rand = random.random()\n",
    "        await asyncio.sleep(rand)\n",
    "        d[k] += rand\n",
    "    \n",
    "n = 3\n",
    "mydict = {i:0 for i in range(n)}\n",
    "future = asyncio.gather(*(add_dict(mydict, i) for i in range(n)))\n",
    "while True:\n",
    "    try:\n",
    "        print(mydict)\n",
    "        await asyncio.sleep(0.5)\n",
    "    except Exception as e:\n",
    "        future.cancel()\n",
    "        break"
   ]
  },
  {
   "cell_type": "markdown",
   "metadata": {},
   "source": [
    "---"
   ]
  },
  {
   "cell_type": "code",
   "execution_count": 18,
   "metadata": {},
   "outputs": [
    {
     "name": "stdout",
     "output_type": "stream",
     "text": [
      "{'ADABTC': 0, 'BTCEUR': 0, 'ETHBTC': 0} 0\n",
      "{'ADABTC': (2.0449916249616997e-05, 2.051752625970467e-05, 190118.850191518), 'BTCEUR': 0, 'ETHBTC': (0.035414311021090536, 0.03542945771981489, 190118.838418096)} 2\n",
      "{'ADABTC': (2.0449916249616997e-05, 2.051752625970467e-05, 190118.850191518), 'BTCEUR': (50280.904172974544, 50299.097249502185, 190119.269616284), 'ETHBTC': (0.035414311021090536, 0.035429447928155035, 190119.496353979)} 3\n",
      "{'ADABTC': (2.045155226852299e-05, 2.051752625970467e-05, 190119.918447046), 'BTCEUR': (50280.904172974544, 50299.097249502185, 190119.269616284), 'ETHBTC': (0.035414311021090536, 0.035429440113320394, 190119.802934451)} 3\n",
      "{'ADABTC': (2.0453019524671832e-05, 2.051752625970467e-05, 190120.234278015), 'BTCEUR': (50281.953475947936, 50299.588822968784, 190120.347450313), 'ETHBTC': (0.03541478955147154, 0.03542943075713912, 190120.439120732)} 5\n",
      "{'ADABTC': (2.0464342418077988e-05, 2.0521711108302792e-05, 190120.857223163), 'BTCEUR': (50282.04497411795, 50297.97748009569, 190120.969251433), 'ETHBTC': (0.03541487992567933, 0.03542969274299188, 190120.751894577)} 5\n",
      "{'ADABTC': (2.046579687585043e-05, 2.0522121703053635e-05, 190121.473486357), 'BTCEUR': (50282.09069921049, 50297.95517018124, 190121.284074181), 'ETHBTC': (0.03541487888415342, 0.03542969745124343, 190121.388365827)} 5\n",
      "{'ADABTC': (2.046579687585043e-05, 2.0522121703053635e-05, 190121.822717068), 'BTCEUR': (50284.01876094639, 50295.17911442337, 190121.966361515), 'ETHBTC': (0.03541504051992838, 0.0354297025987526, 190121.70317574)} 4\n",
      "{'ADABTC': (2.046579687585043e-05, 2.0522121703053635e-05, 190122.263042677), 'BTCEUR': (50284.01876094639, 50299.60700000001, 190122.329574423), 'ETHBTC': (0.03541495883707541, 0.03542008666666667, 190122.032917714)} 3\n",
      "{'ADABTC': (2.0466203152037632e-05, 2.0522121703053635e-05, 190122.91215267), 'BTCEUR': (50284.994380181124, 50299.01042416676, 190122.688515762), 'ETHBTC': (0.035414987238979116, 0.03542002964867181, 190122.591969028)} 4\n",
      "{'ADABTC': (2.0466203152037632e-05, 2.052343689471293e-05, 190123.22409434), 'BTCEUR': (50283.48882028182, 50294.37315278998, 190123.339956686), 'ETHBTC': (0.035412941125087354, 0.035417944107977155, 190123.334702318)} 4\n",
      "{'ADABTC': (2.046630471830347e-05, 2.052343689471293e-05, 190123.538877661), 'BTCEUR': (50287.35304354569, 50300.05232813463, 190123.962925694), 'ETHBTC': (0.035409600666173206, 0.035417660306726245, 190123.96865304)} 5\n",
      "{'ADABTC': (2.046630471830347e-05, 2.0523410569901468e-05, 190124.276058432), 'BTCEUR': (50289.68706175465, 50300.0833066641, 190124.266661631), 'ETHBTC': (0.035409329571984435, 0.03541761266497154, 190124.282834572)} 3\n",
      "{'ADABTC': (2.0466304882721903e-05, 2.0523410569901468e-05, 190124.962114454), 'BTCEUR': (50288.18857301551, 50298.07745177055, 190124.926008228), 'ETHBTC': (0.03540811693035097, 0.035417588470388756, 190124.921229939)} 6\n",
      "{'ADABTC': (2.0466315247772518e-05, 2.0523410569901468e-05, 190125.295520009), 'BTCEUR': (50290.65768636613, 50298.127703690094, 190125.230653286), 'ETHBTC': (0.035409223086900136, 0.035417588470388756, 190125.235861628)} 3\n",
      "{'ADABTC': (2.0466315247772518e-05, 2.0523410569901468e-05, 190125.295520009), 'BTCEUR': (50290.304638553585, 50297.86185126083, 190125.849556779), 'ETHBTC': (0.03541502164446722, 0.035418130651092374, 190125.867220113)} 4\n",
      "{'ADABTC': (2.046510640394089e-05, 2.0523272762039067e-05, 190126.341783926), 'BTCEUR': (50290.21129660881, 50297.68490495248, 190126.475594493), 'ETHBTC': (0.035413250803212844, 0.03542649834307405, 190126.208610695)} 5\n",
      "{'ADABTC': (2.046510640394089e-05, 2.0523318476403005e-05, 190126.975263433), 'BTCEUR': (50290.21129660881, 50297.68490495248, 190126.475594493), 'ETHBTC': (0.03541108945809042, 0.03543015376469933, 190126.851862112)} 4\n",
      "{'ADABTC': (2.0465103080361055e-05, 2.0523318476403005e-05, 190127.298379658), 'BTCEUR': (50290.50516742051, 50297.103664620234, 190127.222300839), 'ETHBTC': (0.03541108945809042, 0.0354281761530448, 190127.219862854)} 3\n",
      "{'ADABTC': (2.0465103080361055e-05, 2.0523327059857275e-05, 190127.935763634), 'BTCEUR': (50291.040951664385, 50297.48659463152, 190127.882872882), 'ETHBTC': (0.035412655018265723, 0.0354281761530448, 190127.885916902)} 6\n",
      "{'ADABTC': (2.0455993084165337e-05, 2.0523367417832012e-05, 190128.234496284), 'BTCEUR': (50290.33172778842, 50296.774724286755, 190128.500127575), 'ETHBTC': (0.035412655018265723, 0.0354281761530448, 190128.510154843)} 5\n",
      "{'ADABTC': (2.0455993084165337e-05, 2.0524133750540058e-05, 190128.846260613), 'BTCEUR': (50290.60979414543, 50296.72308898472, 190128.817575291), 'ETHBTC': (0.0354100562972681, 0.035426560803694405, 190128.817122248)} 4\n",
      "{'ADABTC': (2.0466548605389595e-05, 2.0524745419456292e-05, 190129.459203272), 'BTCEUR': (50287.46949526858, 50296.61324585738, 190129.456217531), 'ETHBTC': (0.03541243735532408, 0.035429173551181914, 190129.44534026)} 6\n",
      "{'ADABTC': (2.0466548605389595e-05, 2.052512508636916e-05, 190129.773333401), 'BTCEUR': (50288.63586401956, 50296.51291446957, 190129.760146437), 'ETHBTC': (0.03541256220754198, 0.035429173551181914, 190129.761546427)} 3\n",
      "{'ADABTC': (2.0466992219048555e-05, 2.052512508636916e-05, 190130.432691829), 'BTCEUR': (50289.84057232693, 50297.61482340107, 190130.424407706), 'ETHBTC': (0.03541183418838498, 0.03542941261232349, 190130.433883992)} 6\n",
      "{'ADABTC': (2.046721928575608e-05, 2.052512508636916e-05, 190130.745005639), 'BTCEUR': (50288.074898575986, 50296.3164495667, 190130.73857478), 'ETHBTC': (0.03541183418838498, 0.03542941261232349, 190130.738924892)} 3\n",
      "{'ADABTC': (2.046721928575608e-05, 2.052725522585908e-05, 190131.368843366), 'BTCEUR': (50282.138053201204, 50297.514105213864, 190131.370255024), 'ETHBTC': (0.03541183418838498, 0.03542941449136276, 190131.046387215)} 5\n",
      "{'ADABTC': (2.046721928575608e-05, 2.052725522585908e-05, 190131.996290209), 'BTCEUR': (50283.21227248821, 50297.68989430024, 190131.996118665), 'ETHBTC': (0.03541183418838498, 0.03542689578117176, 190131.782947409)} 5\n",
      "{'ADABTC': (2.046728027300532e-05, 2.05264936632106e-05, 190132.316793388), 'BTCEUR': (50283.260309639096, 50297.59861937035, 190132.326705705), 'ETHBTC': (0.03541085391202518, 0.03541710994311155, 190132.455694243)} 4\n",
      "{'ADABTC': (2.046725549010159e-05, 2.052504397318849e-05, 190133.019677562), 'BTCEUR': (50289.37241269694, 50296.490023100334, 190132.748851276), 'ETHBTC': (0.03540939628054209, 0.03542373177254592, 190132.794063605)} 4\n",
      "{'ADABTC': (2.0468626563976292e-05, 2.0525337000958353e-05, 190133.348452649), 'BTCEUR': (50289.95763496756, 50296.96632089477, 190133.414033515), 'ETHBTC': (0.03540884985761227, 0.035416492144065746, 190133.430257805)} 5\n",
      "{'ADABTC': (2.0465271430251246e-05, 2.0525337187014754e-05, 190133.990420682), 'BTCEUR': (50288.37746881582, 50296.96632089477, 190133.726537662), 'ETHBTC': (0.035408758245667526, 0.03541544043086638, 190133.746661603)} 4\n",
      "{'ADABTC': (2.0465271430251246e-05, 2.0525337187014754e-05, 190134.299691434), 'BTCEUR': (50288.31389770585, 50297.119654102404, 190134.396304373), 'ETHBTC': (0.035409588525203095, 0.03541459761870607, 190134.369352358)} 5\n",
      "{'ADABTC': (2.0465271430251246e-05, 2.0525337187014754e-05, 190134.299691434), 'BTCEUR': (50288.31389770585, 50297.02751530163, 190135.032336627), 'ETHBTC': (0.035409918636613524, 0.03541517868428613, 190135.033848898)} 4\n"
     ]
    },
    {
     "name": "stderr",
     "output_type": "stream",
     "text": [
      "_GatheringFuture exception was never retrieved\n",
      "future: <_GatheringFuture finished exception=CancelledError()>\n",
      "concurrent.futures._base.CancelledError\n"
     ]
    }
   ],
   "source": [
    "binance_base = \"https://<>.binance.com\"\n",
    "binance_subdomains = [\"api\", \"api1\", \"api2\", \"api3\"]\n",
    "\n",
    "binance_url = binance_base.replace('<>', binance_subdomains[0])\n",
    "\n",
    "binance_endpoints = {\n",
    "    'ping': ('GET', '/api/v3/ping'),\n",
    "    'server_time': ('GET', '/api/v3/time'),\n",
    "    'exchange_info': ('GET', '/api/v3/exchangeInfo'),\n",
    "    'order_book': ('GET', '/api/v3/depth', {'symbol': True, 'limit': False}),\n",
    "    'recent_trades': ('GET', '/api/v3/trades', {'symbol': True, 'limit': False}),\n",
    "    'average_price': ('GET', '/api/v3/avgPrice', {'symbol': True}),\n",
    "    'price': ('GET', '/api/v3/ticker/price', {'symbol': False}),\n",
    "    'best_book_price': ('GET', '/api/v3/ticker/bookTicker', {'symbol': False})\n",
    "}\n",
    "\n",
    "async def get_symbol_prices(q, symbol):\n",
    "    binance_uri = binance_url + binance_endpoints['order_book'][1] + f'?symbol={symbol}&limit=5'\n",
    "\n",
    "    while True:\n",
    "        async with ClientSession() as session:\n",
    "            res = await session.request(method=\"GET\", url=binance_uri)\n",
    "            if res.status != 200:\n",
    "                print(res.status, dict(res.headers))\n",
    "                res.raise_for_status()\n",
    "            timestamp = time.perf_counter()\n",
    "            res_json = await res.text()\n",
    "        JSON_object = json.loads(res_json)\n",
    "\n",
    "        prices = [float(price) for price, quantity in JSON_object['bids']]\n",
    "        weights = [float(quantity) for price, quantity in JSON_object['bids']]\n",
    "        buy = np.average(prices, weights=weights)\n",
    "\n",
    "        prices = [float(price) for price, quantity in JSON_object['asks']]\n",
    "        weights = [float(quantity) for price, quantity in JSON_object['asks']]\n",
    "        sell = np.average(prices, weights=weights)\n",
    "\n",
    "        await q.put((symbol, buy, sell, timestamp))\n",
    "    \n",
    "symbols = ['ADABTC', 'BTCEUR', 'ETHBTC']\n",
    "io_queue = asyncio.Queue()\n",
    "future = asyncio.gather(*(get_symbol_prices(io_queue, s) for s in symbols))\n",
    "mydict = {s:0 for s in symbols}\n",
    "while True:\n",
    "    # get all current elements on queue and print them forever\n",
    "    try:\n",
    "        queue_elements = []\n",
    "        while True:\n",
    "            try:\n",
    "                queue_elements.append(io_queue.get_nowait())\n",
    "            except asyncio.QueueEmpty:\n",
    "                break\n",
    "        for t in queue_elements:\n",
    "            k = t[0]\n",
    "            v = t[1:]\n",
    "            mydict[k] = v\n",
    "        print(mydict, len(queue_elements))\n",
    "        await asyncio.sleep(0.5)\n",
    "    except Exception as e:\n",
    "        future.cancel()\n",
    "        break"
   ]
  }
 ],
 "metadata": {
  "kernelspec": {
   "display_name": "Python 3",
   "language": "python",
   "name": "python3"
  },
  "language_info": {
   "codemirror_mode": {
    "name": "ipython",
    "version": 3
   },
   "file_extension": ".py",
   "mimetype": "text/x-python",
   "name": "python",
   "nbconvert_exporter": "python",
   "pygments_lexer": "ipython3",
   "version": "3.7.5"
  }
 },
 "nbformat": 4,
 "nbformat_minor": 4
}
